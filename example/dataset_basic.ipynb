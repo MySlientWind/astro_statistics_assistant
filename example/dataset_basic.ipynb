{
 "cells": [
  {
   "cell_type": "code",
   "execution_count": 1,
   "metadata": {},
   "outputs": [],
   "source": [
    "# add by qinglin, for jupyter notebook\n",
    "%reload_ext autoreload\n",
    "%autoreload 2"
   ]
  },
  {
   "cell_type": "code",
   "execution_count": 2,
   "metadata": {},
   "outputs": [],
   "source": [
    "import numpy as np\n",
    "import pandas as pd\n",
    "import matplotlib.pyplot as plt\n",
    "from asa.dataset import Dataset"
   ]
  },
  {
   "cell_type": "markdown",
   "metadata": {},
   "source": [
    "# convert to other format"
   ]
  },
  {
   "cell_type": "code",
   "execution_count": 3,
   "metadata": {},
   "outputs": [],
   "source": [
    "x = np.random.normal(size=1000)\n",
    "y = x**2 + np.random.normal(size=1000)\n",
    "z = np.log(np.abs(x + y)) + np.random.normal(size=1000)\n",
    "\n",
    "data = np.array([x, y, z]).T\n",
    "\n",
    "dataset = Dataset(data)"
   ]
  },
  {
   "cell_type": "code",
   "execution_count": 9,
   "metadata": {},
   "outputs": [
    {
     "data": {
      "text/html": [
       "<div>\n",
       "<style scoped>\n",
       "    .dataframe tbody tr th:only-of-type {\n",
       "        vertical-align: middle;\n",
       "    }\n",
       "\n",
       "    .dataframe tbody tr th {\n",
       "        vertical-align: top;\n",
       "    }\n",
       "\n",
       "    .dataframe thead th {\n",
       "        text-align: right;\n",
       "    }\n",
       "</style>\n",
       "<table border=\"1\" class=\"dataframe\">\n",
       "  <thead>\n",
       "    <tr style=\"text-align: right;\">\n",
       "      <th></th>\n",
       "      <th>x0</th>\n",
       "      <th>x1</th>\n",
       "      <th>x2</th>\n",
       "    </tr>\n",
       "  </thead>\n",
       "  <tbody>\n",
       "    <tr>\n",
       "      <th>0</th>\n",
       "      <td>-1.761590</td>\n",
       "      <td>0.554231</td>\n",
       "      <td>-0.566511</td>\n",
       "    </tr>\n",
       "    <tr>\n",
       "      <th>1</th>\n",
       "      <td>-0.684361</td>\n",
       "      <td>0.229293</td>\n",
       "      <td>-0.465045</td>\n",
       "    </tr>\n",
       "    <tr>\n",
       "      <th>2</th>\n",
       "      <td>1.045105</td>\n",
       "      <td>1.782980</td>\n",
       "      <td>0.573769</td>\n",
       "    </tr>\n",
       "    <tr>\n",
       "      <th>3</th>\n",
       "      <td>-1.335464</td>\n",
       "      <td>1.180150</td>\n",
       "      <td>-1.041013</td>\n",
       "    </tr>\n",
       "    <tr>\n",
       "      <th>4</th>\n",
       "      <td>-0.337237</td>\n",
       "      <td>0.133848</td>\n",
       "      <td>-1.595178</td>\n",
       "    </tr>\n",
       "    <tr>\n",
       "      <th>...</th>\n",
       "      <td>...</td>\n",
       "      <td>...</td>\n",
       "      <td>...</td>\n",
       "    </tr>\n",
       "    <tr>\n",
       "      <th>995</th>\n",
       "      <td>0.566496</td>\n",
       "      <td>-0.610485</td>\n",
       "      <td>-4.196797</td>\n",
       "    </tr>\n",
       "    <tr>\n",
       "      <th>996</th>\n",
       "      <td>2.492244</td>\n",
       "      <td>7.773470</td>\n",
       "      <td>1.240475</td>\n",
       "    </tr>\n",
       "    <tr>\n",
       "      <th>997</th>\n",
       "      <td>-0.329559</td>\n",
       "      <td>0.698308</td>\n",
       "      <td>-0.721562</td>\n",
       "    </tr>\n",
       "    <tr>\n",
       "      <th>998</th>\n",
       "      <td>-0.254257</td>\n",
       "      <td>0.209806</td>\n",
       "      <td>-3.837096</td>\n",
       "    </tr>\n",
       "    <tr>\n",
       "      <th>999</th>\n",
       "      <td>-0.307416</td>\n",
       "      <td>0.655647</td>\n",
       "      <td>-1.338986</td>\n",
       "    </tr>\n",
       "  </tbody>\n",
       "</table>\n",
       "<p>1000 rows × 3 columns</p>\n",
       "</div>"
      ],
      "text/plain": [
       "           x0        x1        x2\n",
       "0   -1.761590  0.554231 -0.566511\n",
       "1   -0.684361  0.229293 -0.465045\n",
       "2    1.045105  1.782980  0.573769\n",
       "3   -1.335464  1.180150 -1.041013\n",
       "4   -0.337237  0.133848 -1.595178\n",
       "..        ...       ...       ...\n",
       "995  0.566496 -0.610485 -4.196797\n",
       "996  2.492244  7.773470  1.240475\n",
       "997 -0.329559  0.698308 -0.721562\n",
       "998 -0.254257  0.209806 -3.837096\n",
       "999 -0.307416  0.655647 -1.338986\n",
       "\n",
       "[1000 rows x 3 columns]"
      ]
     },
     "execution_count": 9,
     "metadata": {},
     "output_type": "execute_result"
    }
   ],
   "source": [
    "dataset.to_pandas()"
   ]
  },
  {
   "cell_type": "markdown",
   "metadata": {},
   "source": [
    "# construct dataset"
   ]
  },
  {
   "cell_type": "code",
   "execution_count": 3,
   "metadata": {},
   "outputs": [],
   "source": [
    "x = np.random.normal(size=1000)\n",
    "y = x**2 + np.random.normal(size=1000)\n",
    "z = np.log(np.abs(x + y)) + np.random.normal(size=1000)"
   ]
  },
  {
   "cell_type": "code",
   "execution_count": 4,
   "metadata": {},
   "outputs": [],
   "source": [
    "data = np.array([x, y, z]).T"
   ]
  },
  {
   "cell_type": "code",
   "execution_count": 5,
   "metadata": {},
   "outputs": [
    {
     "data": {
      "text/plain": [
       "Dataset summary:\n",
       "  Data shape: (1000, 3)\n",
       "  Names: ['x0' 'x1' 'x2']\n",
       "  Labels: ['x0' 'x1' 'x2']"
      ]
     },
     "execution_count": 5,
     "metadata": {},
     "output_type": "execute_result"
    }
   ],
   "source": [
    "Dataset(data)"
   ]
  },
  {
   "cell_type": "code",
   "execution_count": 6,
   "metadata": {},
   "outputs": [
    {
     "data": {
      "text/plain": [
       "Dataset summary:\n",
       "  Data shape: (1000, 3)\n",
       "  Names: ['x' 'y' 'z']\n",
       "  Labels: ['x' 'y' 'z']"
      ]
     },
     "execution_count": 6,
     "metadata": {},
     "output_type": "execute_result"
    }
   ],
   "source": [
    "Dataset(data, names=['x', 'y', 'z'])"
   ]
  },
  {
   "cell_type": "code",
   "execution_count": 7,
   "metadata": {},
   "outputs": [
    {
     "data": {
      "text/plain": [
       "Dataset summary:\n",
       "  Data shape: (1000, 3)\n",
       "  Names: ['x' 'y' 'z']\n",
       "  Labels: ['x_label' 'y_label' 'z_label']"
      ]
     },
     "execution_count": 7,
     "metadata": {},
     "output_type": "execute_result"
    }
   ],
   "source": [
    "Dataset(data, names=['x', 'y', 'z'], labels=['x_label', 'y_label', 'z_label'])"
   ]
  },
  {
   "cell_type": "code",
   "execution_count": 9,
   "metadata": {},
   "outputs": [],
   "source": [
    "data_df = pd.DataFrame(data, columns=['x', 'y', 'z'])"
   ]
  },
  {
   "cell_type": "code",
   "execution_count": 10,
   "metadata": {},
   "outputs": [
    {
     "data": {
      "text/plain": [
       "Dataset summary:\n",
       "  Data shape: (1000, 3)\n",
       "  Names: ['x' 'y' 'z']\n",
       "  Labels: ['x' 'y' 'z']"
      ]
     },
     "execution_count": 10,
     "metadata": {},
     "output_type": "execute_result"
    }
   ],
   "source": [
    "Dataset(data_df)"
   ]
  },
  {
   "cell_type": "code",
   "execution_count": 14,
   "metadata": {},
   "outputs": [
    {
     "data": {
      "text/plain": [
       "array([[-0.51793212, -0.71270663, -0.92131538],\n",
       "       [-1.02197153,  2.1776497 , -0.27653095],\n",
       "       [-0.88197904,  1.33627553, -1.39967087],\n",
       "       ...,\n",
       "       [ 2.76257881,  6.74269627,  2.0512898 ],\n",
       "       [-0.8594992 ,  0.44117064,  0.61781804],\n",
       "       [-0.40038085,  0.3037769 , -4.38660254]])"
      ]
     },
     "execution_count": 14,
     "metadata": {},
     "output_type": "execute_result"
    }
   ],
   "source": [
    "data"
   ]
  },
  {
   "cell_type": "code",
   "execution_count": 12,
   "metadata": {},
   "outputs": [
    {
     "data": {
      "text/plain": [
       "array([[-0.51793212, -0.71270663, -0.92131538],\n",
       "       [-1.02197153,  2.1776497 , -0.27653095],\n",
       "       [-0.88197904,  1.33627553, -1.39967087],\n",
       "       ...,\n",
       "       [ 2.76257881,  6.74269627,  2.0512898 ],\n",
       "       [-0.8594992 ,  0.44117064,  0.61781804],\n",
       "       [-0.40038085,  0.3037769 , -4.38660254]])"
      ]
     },
     "execution_count": 12,
     "metadata": {},
     "output_type": "execute_result"
    }
   ],
   "source": [
    "Dataset(data_df).data"
   ]
  },
  {
   "cell_type": "markdown",
   "metadata": {},
   "source": [
    "# get data by name"
   ]
  },
  {
   "cell_type": "code",
   "execution_count": 32,
   "metadata": {},
   "outputs": [],
   "source": [
    "x = np.random.normal(size=1000)\n",
    "y = x**2 + np.random.normal(size=1000)\n",
    "z = np.log(np.abs(x + y)) + np.random.normal(size=1000)"
   ]
  },
  {
   "cell_type": "code",
   "execution_count": 5,
   "metadata": {},
   "outputs": [],
   "source": [
    "data = np.array([x, y, z]).T"
   ]
  },
  {
   "cell_type": "code",
   "execution_count": 7,
   "metadata": {},
   "outputs": [],
   "source": [
    "dataset = Dataset(data, ['x', 'y', 'z'], ['x', 'y', 'z'])"
   ]
  },
  {
   "cell_type": "code",
   "execution_count": 8,
   "metadata": {},
   "outputs": [
    {
     "data": {
      "text/plain": [
       "True"
      ]
     },
     "execution_count": 8,
     "metadata": {},
     "output_type": "execute_result"
    }
   ],
   "source": [
    "np.array_equal(dataset['x'], x)"
   ]
  },
  {
   "cell_type": "code",
   "execution_count": 9,
   "metadata": {},
   "outputs": [
    {
     "data": {
      "text/plain": [
       "True"
      ]
     },
     "execution_count": 9,
     "metadata": {},
     "output_type": "execute_result"
    }
   ],
   "source": [
    "np.array_equal(dataset[['x', 'y']], np.array([x, y]).T)"
   ]
  },
  {
   "cell_type": "markdown",
   "metadata": {},
   "source": [
    "You can also use index"
   ]
  },
  {
   "cell_type": "code",
   "execution_count": 10,
   "metadata": {},
   "outputs": [
    {
     "data": {
      "text/plain": [
       "True"
      ]
     },
     "execution_count": 10,
     "metadata": {},
     "output_type": "execute_result"
    }
   ],
   "source": [
    "np.array_equal(dataset[:, 0], x)"
   ]
  },
  {
   "cell_type": "code",
   "execution_count": 11,
   "metadata": {},
   "outputs": [
    {
     "data": {
      "text/plain": [
       "True"
      ]
     },
     "execution_count": 11,
     "metadata": {},
     "output_type": "execute_result"
    }
   ],
   "source": [
    "np.array_equal(dataset[3:5, 'x'], x[3:5])"
   ]
  },
  {
   "cell_type": "markdown",
   "metadata": {},
   "source": [
    "# summary"
   ]
  },
  {
   "cell_type": "code",
   "execution_count": 10,
   "metadata": {},
   "outputs": [],
   "source": [
    "x = np.random.normal(size=1000)\n",
    "y = x**2 + np.random.normal(size=1000)\n",
    "z = np.log(np.abs(x + y)) + np.random.normal(size=1000)"
   ]
  },
  {
   "cell_type": "code",
   "execution_count": 11,
   "metadata": {},
   "outputs": [],
   "source": [
    "data = np.array([x, y, z]).T"
   ]
  },
  {
   "cell_type": "code",
   "execution_count": 12,
   "metadata": {},
   "outputs": [],
   "source": [
    "dataset = Dataset(data, ['x', 'y', 'z'], ['x', 'y', 'z'])"
   ]
  },
  {
   "cell_type": "code",
   "execution_count": 13,
   "metadata": {},
   "outputs": [
    {
     "data": {
      "text/plain": [
       "Dataset summary:\n",
       "  Data shape: (1000, 3)\n",
       "  Names: ['x' 'y' 'z']\n",
       "  Labels: ['x' 'y' 'z']"
      ]
     },
     "execution_count": 13,
     "metadata": {},
     "output_type": "execute_result"
    }
   ],
   "source": [
    "dataset"
   ]
  },
  {
   "cell_type": "code",
   "execution_count": 14,
   "metadata": {},
   "outputs": [
    {
     "name": "stdout",
     "output_type": "stream",
     "text": [
      "Dataset summary:\n",
      "  Data shape: (1000, 3)\n",
      "  Names: ['x' 'y' 'z']\n",
      "  Labels: ['x' 'y' 'z']\n",
      "\n"
     ]
    }
   ],
   "source": [
    "print(dataset)"
   ]
  },
  {
   "cell_type": "code",
   "execution_count": 15,
   "metadata": {},
   "outputs": [
    {
     "name": "stdout",
     "output_type": "stream",
     "text": [
      "Dataset summary:\n",
      "  Data shape: (1000, 3)\n",
      "  Names: ['x' 'y' 'z']\n",
      "  Labels: ['x' 'y' 'z']\n",
      "\n"
     ]
    }
   ],
   "source": [
    "dataset.summary()"
   ]
  },
  {
   "cell_type": "code",
   "execution_count": 16,
   "metadata": {},
   "outputs": [
    {
     "name": "stdout",
     "output_type": "stream",
     "text": [
      "Dataset summary:\n",
      "  Data shape: (1000, 3)\n",
      "  Names: ['x' 'y' 'z']\n",
      "  Labels: ['x' 'y' 'z']\n",
      "\n",
      "                 x            y            z\n",
      "count  1000.000000  1000.000000  1000.000000\n",
      "mean     -0.025854     1.071247    -0.044440\n",
      "std       1.015677     1.806471     1.518553\n",
      "min      -3.838911    -3.227975    -5.862311\n",
      "25%      -0.708563    -0.091099    -1.003846\n",
      "50%      -0.015643     0.835123     0.123353\n",
      "75%       0.667487     1.865543     1.014457\n",
      "max       3.554479    14.383491     3.916127\n"
     ]
    }
   ],
   "source": [
    "dataset.summary(stats_info=True)"
   ]
  },
  {
   "cell_type": "markdown",
   "metadata": {},
   "source": [
    "# add col"
   ]
  },
  {
   "cell_type": "code",
   "execution_count": 3,
   "metadata": {},
   "outputs": [],
   "source": [
    "x = np.random.normal(size=1000)\n",
    "y = x**2 + np.random.normal(size=1000)\n",
    "z = np.log(np.abs(x + y)) + np.random.normal(size=1000)"
   ]
  },
  {
   "cell_type": "code",
   "execution_count": 4,
   "metadata": {},
   "outputs": [],
   "source": [
    "data = np.array([x, y, z]).T"
   ]
  },
  {
   "cell_type": "code",
   "execution_count": 5,
   "metadata": {},
   "outputs": [],
   "source": [
    "dataset = Dataset(data, ['x', 'y', 'z'], ['x', 'y', 'z'])"
   ]
  },
  {
   "cell_type": "code",
   "execution_count": 6,
   "metadata": {},
   "outputs": [],
   "source": [
    "x2 = np.random.normal(size=1000)\n",
    "y2 = 5 * x2\n",
    "\n",
    "data2 = np.array([x2, y2]).T"
   ]
  },
  {
   "cell_type": "code",
   "execution_count": 7,
   "metadata": {},
   "outputs": [
    {
     "data": {
      "text/plain": [
       "array([[-0.1401337 , -0.40810026, -0.48702198],\n",
       "       [-1.81610905,  4.3922999 ,  0.19602357],\n",
       "       [ 0.9464675 ,  0.37467793,  0.18620735],\n",
       "       ...,\n",
       "       [ 0.75332711,  0.38082139,  0.77085572],\n",
       "       [ 0.27339081,  0.30781424,  1.01091056],\n",
       "       [ 0.58375604,  2.31084876,  0.23651232]])"
      ]
     },
     "execution_count": 7,
     "metadata": {},
     "output_type": "execute_result"
    }
   ],
   "source": [
    "dataset.data"
   ]
  },
  {
   "cell_type": "code",
   "execution_count": 8,
   "metadata": {},
   "outputs": [],
   "source": [
    "dataset.add_col(data2, ['x2', 'y2'], ['x2', 'y2'])"
   ]
  },
  {
   "cell_type": "code",
   "execution_count": 9,
   "metadata": {},
   "outputs": [
    {
     "data": {
      "text/plain": [
       "array([[-0.1401337 , -0.40810026, -0.48702198, -0.1367507 , -0.6837535 ],\n",
       "       [-1.81610905,  4.3922999 ,  0.19602357, -1.16223903, -5.81119517],\n",
       "       [ 0.9464675 ,  0.37467793,  0.18620735,  0.91330371,  4.56651857],\n",
       "       ...,\n",
       "       [ 0.75332711,  0.38082139,  0.77085572,  0.23403476,  1.1701738 ],\n",
       "       [ 0.27339081,  0.30781424,  1.01091056, -0.08156473, -0.40782364],\n",
       "       [ 0.58375604,  2.31084876,  0.23651232,  0.23405227,  1.17026135]])"
      ]
     },
     "execution_count": 9,
     "metadata": {},
     "output_type": "execute_result"
    }
   ],
   "source": [
    "dataset.data"
   ]
  },
  {
   "cell_type": "code",
   "execution_count": 10,
   "metadata": {},
   "outputs": [
    {
     "data": {
      "text/plain": [
       "array(['x', 'y', 'z', 'x2', 'y2'], dtype='<U2')"
      ]
     },
     "execution_count": 10,
     "metadata": {},
     "output_type": "execute_result"
    }
   ],
   "source": [
    "dataset.labels"
   ]
  },
  {
   "cell_type": "code",
   "execution_count": 11,
   "metadata": {},
   "outputs": [
    {
     "data": {
      "text/plain": [
       "array(['x', 'y', 'z', 'x2', 'y2'], dtype='<U2')"
      ]
     },
     "execution_count": 11,
     "metadata": {},
     "output_type": "execute_result"
    }
   ],
   "source": [
    "dataset.names"
   ]
  },
  {
   "cell_type": "code",
   "execution_count": 12,
   "metadata": {},
   "outputs": [],
   "source": [
    "dataset.add_col(x2, 'x3', 'x3')"
   ]
  },
  {
   "cell_type": "code",
   "execution_count": 13,
   "metadata": {},
   "outputs": [
    {
     "data": {
      "text/plain": [
       "array([[-0.1401337 , -0.40810026, -0.48702198, -0.1367507 , -0.6837535 ,\n",
       "        -0.1367507 ],\n",
       "       [-1.81610905,  4.3922999 ,  0.19602357, -1.16223903, -5.81119517,\n",
       "        -1.16223903],\n",
       "       [ 0.9464675 ,  0.37467793,  0.18620735,  0.91330371,  4.56651857,\n",
       "         0.91330371],\n",
       "       ...,\n",
       "       [ 0.75332711,  0.38082139,  0.77085572,  0.23403476,  1.1701738 ,\n",
       "         0.23403476],\n",
       "       [ 0.27339081,  0.30781424,  1.01091056, -0.08156473, -0.40782364,\n",
       "        -0.08156473],\n",
       "       [ 0.58375604,  2.31084876,  0.23651232,  0.23405227,  1.17026135,\n",
       "         0.23405227]])"
      ]
     },
     "execution_count": 13,
     "metadata": {},
     "output_type": "execute_result"
    }
   ],
   "source": [
    "dataset.data"
   ]
  },
  {
   "cell_type": "code",
   "execution_count": 14,
   "metadata": {},
   "outputs": [
    {
     "data": {
      "text/plain": [
       "array(['x', 'y', 'z', 'x2', 'y2', 'x3'], dtype='<U2')"
      ]
     },
     "execution_count": 14,
     "metadata": {},
     "output_type": "execute_result"
    }
   ],
   "source": [
    "dataset.names"
   ]
  },
  {
   "cell_type": "code",
   "execution_count": 15,
   "metadata": {},
   "outputs": [],
   "source": [
    "dataset['x4'] = x"
   ]
  },
  {
   "cell_type": "code",
   "execution_count": 16,
   "metadata": {},
   "outputs": [
    {
     "data": {
      "text/plain": [
       "array(['x', 'y', 'z', 'x2', 'y2', 'x3', 'x4'], dtype='<U2')"
      ]
     },
     "execution_count": 16,
     "metadata": {},
     "output_type": "execute_result"
    }
   ],
   "source": [
    "dataset.names"
   ]
  },
  {
   "cell_type": "code",
   "execution_count": 18,
   "metadata": {},
   "outputs": [
    {
     "data": {
      "text/plain": [
       "True"
      ]
     },
     "execution_count": 18,
     "metadata": {},
     "output_type": "execute_result"
    }
   ],
   "source": [
    "np.array_equal(dataset['x4'], dataset['x'])"
   ]
  },
  {
   "cell_type": "markdown",
   "metadata": {},
   "source": [
    "# add row"
   ]
  },
  {
   "cell_type": "code",
   "execution_count": 30,
   "metadata": {},
   "outputs": [],
   "source": [
    "x = np.random.normal(size=2)\n",
    "y = x**2 + np.random.normal(size=2)\n",
    "z = np.log(np.abs(x + y)) + np.random.normal(size=2)\n",
    "\n",
    "data = np.array([x, y, z]).T"
   ]
  },
  {
   "cell_type": "code",
   "execution_count": 31,
   "metadata": {},
   "outputs": [],
   "source": [
    "dataset = Dataset(data, ['x', 'y', 'z'], ['x', 'y', 'z'])"
   ]
  },
  {
   "cell_type": "code",
   "execution_count": 32,
   "metadata": {},
   "outputs": [
    {
     "data": {
      "text/plain": [
       "array([[ 1.06480947,  1.86882949, -0.04833452],\n",
       "       [-0.2536447 , -0.65262798,  0.28142592]])"
      ]
     },
     "execution_count": 32,
     "metadata": {},
     "output_type": "execute_result"
    }
   ],
   "source": [
    "dataset.data"
   ]
  },
  {
   "cell_type": "code",
   "execution_count": 33,
   "metadata": {},
   "outputs": [],
   "source": [
    "dataset.add_row(data)"
   ]
  },
  {
   "cell_type": "code",
   "execution_count": 34,
   "metadata": {},
   "outputs": [
    {
     "data": {
      "text/plain": [
       "array([[ 1.06480947,  1.86882949, -0.04833452],\n",
       "       [-0.2536447 , -0.65262798,  0.28142592],\n",
       "       [ 1.06480947,  1.86882949, -0.04833452],\n",
       "       [-0.2536447 , -0.65262798,  0.28142592]])"
      ]
     },
     "execution_count": 34,
     "metadata": {},
     "output_type": "execute_result"
    }
   ],
   "source": [
    "dataset.data"
   ]
  },
  {
   "cell_type": "markdown",
   "metadata": {},
   "source": [
    "# delete col"
   ]
  },
  {
   "cell_type": "code",
   "execution_count": 50,
   "metadata": {},
   "outputs": [],
   "source": [
    "x = np.random.normal(size=2)\n",
    "y = x**2 + np.random.normal(size=2)\n",
    "z = np.log(np.abs(x + y)) + np.random.normal(size=2)\n",
    "\n",
    "data = np.array([x, y, z]).T"
   ]
  },
  {
   "cell_type": "code",
   "execution_count": 51,
   "metadata": {},
   "outputs": [],
   "source": [
    "dataset = Dataset(data, ['x', 'y', 'z'], ['x', 'y', 'z'])"
   ]
  },
  {
   "cell_type": "code",
   "execution_count": 52,
   "metadata": {},
   "outputs": [
    {
     "data": {
      "text/plain": [
       "array([[ 0.44195621,  1.41335667,  0.91624984],\n",
       "       [-0.01707149,  1.20553685,  0.89957627]])"
      ]
     },
     "execution_count": 52,
     "metadata": {},
     "output_type": "execute_result"
    }
   ],
   "source": [
    "dataset.data"
   ]
  },
  {
   "cell_type": "code",
   "execution_count": 53,
   "metadata": {},
   "outputs": [],
   "source": [
    "dataset.del_col(1)"
   ]
  },
  {
   "cell_type": "code",
   "execution_count": 54,
   "metadata": {},
   "outputs": [
    {
     "data": {
      "text/plain": [
       "array([[ 0.44195621,  0.91624984],\n",
       "       [-0.01707149,  0.89957627]])"
      ]
     },
     "execution_count": 54,
     "metadata": {},
     "output_type": "execute_result"
    }
   ],
   "source": [
    "dataset.data"
   ]
  },
  {
   "cell_type": "code",
   "execution_count": 55,
   "metadata": {},
   "outputs": [
    {
     "name": "stdout",
     "output_type": "stream",
     "text": [
      "Dataset summary:\n",
      "  Data shape: (2, 2)\n",
      "  Names: ['x' 'z']\n",
      "  Labels: ['x' 'z']\n",
      "\n"
     ]
    }
   ],
   "source": [
    "dataset.summary()"
   ]
  },
  {
   "cell_type": "code",
   "execution_count": 56,
   "metadata": {},
   "outputs": [],
   "source": [
    "dataset.del_col('x')"
   ]
  },
  {
   "cell_type": "code",
   "execution_count": 57,
   "metadata": {},
   "outputs": [
    {
     "data": {
      "text/plain": [
       "array([[0.91624984],\n",
       "       [0.89957627]])"
      ]
     },
     "execution_count": 57,
     "metadata": {},
     "output_type": "execute_result"
    }
   ],
   "source": [
    "dataset.data"
   ]
  },
  {
   "cell_type": "code",
   "execution_count": 58,
   "metadata": {},
   "outputs": [
    {
     "name": "stdout",
     "output_type": "stream",
     "text": [
      "Dataset summary:\n",
      "  Data shape: (2, 1)\n",
      "  Names: ['z']\n",
      "  Labels: ['z']\n",
      "\n"
     ]
    }
   ],
   "source": [
    "dataset.summary()"
   ]
  },
  {
   "cell_type": "markdown",
   "metadata": {},
   "source": [
    "# delete row"
   ]
  },
  {
   "cell_type": "code",
   "execution_count": 36,
   "metadata": {},
   "outputs": [],
   "source": [
    "x = np.random.normal(size=2)\n",
    "y = x**2 + np.random.normal(size=2)\n",
    "z = np.log(np.abs(x + y)) + np.random.normal(size=2)\n",
    "\n",
    "data = np.array([x, y, z]).T"
   ]
  },
  {
   "cell_type": "code",
   "execution_count": 37,
   "metadata": {},
   "outputs": [],
   "source": [
    "dataset = Dataset(data, ['x', 'y', 'z'], ['x', 'y', 'z'])"
   ]
  },
  {
   "cell_type": "code",
   "execution_count": 38,
   "metadata": {},
   "outputs": [
    {
     "data": {
      "text/plain": [
       "array([[-1.07477946,  1.27267112, -1.42611577],\n",
       "       [ 0.39861649, -1.77036889, -0.05582315]])"
      ]
     },
     "execution_count": 38,
     "metadata": {},
     "output_type": "execute_result"
    }
   ],
   "source": [
    "dataset.data"
   ]
  },
  {
   "cell_type": "code",
   "execution_count": 41,
   "metadata": {},
   "outputs": [],
   "source": [
    "dataset.del_row(1)"
   ]
  },
  {
   "cell_type": "code",
   "execution_count": 42,
   "metadata": {},
   "outputs": [
    {
     "data": {
      "text/plain": [
       "array([[-1.07477946,  1.27267112, -1.42611577]])"
      ]
     },
     "execution_count": 42,
     "metadata": {},
     "output_type": "execute_result"
    }
   ],
   "source": [
    "dataset.data"
   ]
  },
  {
   "cell_type": "code",
   "execution_count": null,
   "metadata": {},
   "outputs": [],
   "source": []
  }
 ],
 "metadata": {
  "kernelspec": {
   "display_name": "Python 3 (ipykernel)",
   "language": "python",
   "name": "python3"
  },
  "language_info": {
   "codemirror_mode": {
    "name": "ipython",
    "version": 3
   },
   "file_extension": ".py",
   "mimetype": "text/x-python",
   "name": "python",
   "nbconvert_exporter": "python",
   "pygments_lexer": "ipython3",
   "version": "3.9.16"
  }
 },
 "nbformat": 4,
 "nbformat_minor": 2
}
