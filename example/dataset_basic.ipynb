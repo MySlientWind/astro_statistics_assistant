{
 "cells": [
  {
   "cell_type": "code",
   "execution_count": 1,
   "metadata": {},
   "outputs": [],
   "source": [
    "# add by qinglin, for jupyter notebook\n",
    "%reload_ext autoreload\n",
    "%autoreload 2"
   ]
  },
  {
   "cell_type": "code",
   "execution_count": 2,
   "metadata": {},
   "outputs": [],
   "source": [
    "import numpy as np\n",
    "import pandas as pd\n",
    "import matplotlib.pyplot as plt\n",
    "from asa.dataset import Dataset"
   ]
  },
  {
   "cell_type": "markdown",
   "metadata": {},
   "source": [
    "# construct dataset"
   ]
  },
  {
   "cell_type": "code",
   "execution_count": 5,
   "metadata": {},
   "outputs": [],
   "source": [
    "x = np.random.normal(size=1000)\n",
    "y = x**2 + np.random.normal(size=1000)\n",
    "z = np.log(np.abs(x + y)) + np.random.normal(size=1000)"
   ]
  },
  {
   "cell_type": "code",
   "execution_count": 6,
   "metadata": {},
   "outputs": [],
   "source": [
    "data = np.array([x, y, z]).T"
   ]
  },
  {
   "cell_type": "code",
   "execution_count": 7,
   "metadata": {},
   "outputs": [
    {
     "data": {
      "text/plain": [
       "Dataset summary:\n",
       "  Data shape: (1000, 3)\n",
       "  Names: ['x0' 'x1' 'x2']\n",
       "  Labels: ['x0' 'x1' 'x2']"
      ]
     },
     "execution_count": 7,
     "metadata": {},
     "output_type": "execute_result"
    }
   ],
   "source": [
    "Dataset(data)"
   ]
  },
  {
   "cell_type": "code",
   "execution_count": 8,
   "metadata": {},
   "outputs": [
    {
     "data": {
      "text/plain": [
       "Dataset summary:\n",
       "  Data shape: (1000, 3)\n",
       "  Names: ['x' 'y' 'z']\n",
       "  Labels: ['x' 'y' 'z']"
      ]
     },
     "execution_count": 8,
     "metadata": {},
     "output_type": "execute_result"
    }
   ],
   "source": [
    "Dataset(data, names=['x', 'y', 'z'])"
   ]
  },
  {
   "cell_type": "code",
   "execution_count": 9,
   "metadata": {},
   "outputs": [
    {
     "data": {
      "text/plain": [
       "Dataset summary:\n",
       "  Data shape: (1000, 3)\n",
       "  Names: ['x' 'y' 'z']\n",
       "  Labels: ['x_label' 'y_label' 'z_label']"
      ]
     },
     "execution_count": 9,
     "metadata": {},
     "output_type": "execute_result"
    }
   ],
   "source": [
    "Dataset(data, names=['x', 'y', 'z'], labels=['x_label', 'y_label', 'z_label'])"
   ]
  },
  {
   "cell_type": "code",
   "execution_count": 10,
   "metadata": {},
   "outputs": [],
   "source": [
    "data_df = pd.DataFrame(data, columns=['x', 'y', 'z'])"
   ]
  },
  {
   "cell_type": "code",
   "execution_count": 11,
   "metadata": {},
   "outputs": [
    {
     "data": {
      "text/plain": [
       "Dataset summary:\n",
       "  Data shape: (1000, 3)\n",
       "  Names: ['x' 'y' 'z']\n",
       "  Labels: ['x' 'y' 'z']"
      ]
     },
     "execution_count": 11,
     "metadata": {},
     "output_type": "execute_result"
    }
   ],
   "source": [
    "Dataset(data_df)"
   ]
  },
  {
   "cell_type": "code",
   "execution_count": 12,
   "metadata": {},
   "outputs": [
    {
     "data": {
      "text/plain": [
       "array([[-1.21893452,  2.29650891, -2.55720456],\n",
       "       [-0.21943088,  1.29335721, -0.88632399],\n",
       "       [ 0.85681375,  0.73257075,  0.27043271],\n",
       "       ...,\n",
       "       [-0.48422288, -0.48675169, -0.32625907],\n",
       "       [ 1.06487691,  2.60082971,  0.76772253],\n",
       "       [ 0.98862483,  0.97223495,  1.55633418]])"
      ]
     },
     "execution_count": 12,
     "metadata": {},
     "output_type": "execute_result"
    }
   ],
   "source": [
    "data"
   ]
  },
  {
   "cell_type": "code",
   "execution_count": 13,
   "metadata": {},
   "outputs": [
    {
     "data": {
      "text/html": [
       "<div>\n",
       "<style scoped>\n",
       "    .dataframe tbody tr th:only-of-type {\n",
       "        vertical-align: middle;\n",
       "    }\n",
       "\n",
       "    .dataframe tbody tr th {\n",
       "        vertical-align: top;\n",
       "    }\n",
       "\n",
       "    .dataframe thead th {\n",
       "        text-align: right;\n",
       "    }\n",
       "</style>\n",
       "<table border=\"1\" class=\"dataframe\">\n",
       "  <thead>\n",
       "    <tr style=\"text-align: right;\">\n",
       "      <th></th>\n",
       "      <th>x</th>\n",
       "      <th>y</th>\n",
       "      <th>z</th>\n",
       "    </tr>\n",
       "  </thead>\n",
       "  <tbody>\n",
       "    <tr>\n",
       "      <th>0</th>\n",
       "      <td>-1.218935</td>\n",
       "      <td>2.296509</td>\n",
       "      <td>-2.557205</td>\n",
       "    </tr>\n",
       "    <tr>\n",
       "      <th>1</th>\n",
       "      <td>-0.219431</td>\n",
       "      <td>1.293357</td>\n",
       "      <td>-0.886324</td>\n",
       "    </tr>\n",
       "    <tr>\n",
       "      <th>2</th>\n",
       "      <td>0.856814</td>\n",
       "      <td>0.732571</td>\n",
       "      <td>0.270433</td>\n",
       "    </tr>\n",
       "    <tr>\n",
       "      <th>3</th>\n",
       "      <td>0.165836</td>\n",
       "      <td>-0.057274</td>\n",
       "      <td>-2.665473</td>\n",
       "    </tr>\n",
       "    <tr>\n",
       "      <th>4</th>\n",
       "      <td>-0.791382</td>\n",
       "      <td>1.290133</td>\n",
       "      <td>-1.231284</td>\n",
       "    </tr>\n",
       "    <tr>\n",
       "      <th>...</th>\n",
       "      <td>...</td>\n",
       "      <td>...</td>\n",
       "      <td>...</td>\n",
       "    </tr>\n",
       "    <tr>\n",
       "      <th>995</th>\n",
       "      <td>-0.823176</td>\n",
       "      <td>1.700775</td>\n",
       "      <td>0.277481</td>\n",
       "    </tr>\n",
       "    <tr>\n",
       "      <th>996</th>\n",
       "      <td>1.336907</td>\n",
       "      <td>1.820929</td>\n",
       "      <td>0.574967</td>\n",
       "    </tr>\n",
       "    <tr>\n",
       "      <th>997</th>\n",
       "      <td>-0.484223</td>\n",
       "      <td>-0.486752</td>\n",
       "      <td>-0.326259</td>\n",
       "    </tr>\n",
       "    <tr>\n",
       "      <th>998</th>\n",
       "      <td>1.064877</td>\n",
       "      <td>2.600830</td>\n",
       "      <td>0.767723</td>\n",
       "    </tr>\n",
       "    <tr>\n",
       "      <th>999</th>\n",
       "      <td>0.988625</td>\n",
       "      <td>0.972235</td>\n",
       "      <td>1.556334</td>\n",
       "    </tr>\n",
       "  </tbody>\n",
       "</table>\n",
       "<p>1000 rows × 3 columns</p>\n",
       "</div>"
      ],
      "text/plain": [
       "            x         y         z\n",
       "0   -1.218935  2.296509 -2.557205\n",
       "1   -0.219431  1.293357 -0.886324\n",
       "2    0.856814  0.732571  0.270433\n",
       "3    0.165836 -0.057274 -2.665473\n",
       "4   -0.791382  1.290133 -1.231284\n",
       "..        ...       ...       ...\n",
       "995 -0.823176  1.700775  0.277481\n",
       "996  1.336907  1.820929  0.574967\n",
       "997 -0.484223 -0.486752 -0.326259\n",
       "998  1.064877  2.600830  0.767723\n",
       "999  0.988625  0.972235  1.556334\n",
       "\n",
       "[1000 rows x 3 columns]"
      ]
     },
     "execution_count": 13,
     "metadata": {},
     "output_type": "execute_result"
    }
   ],
   "source": [
    "Dataset(data_df).data"
   ]
  },
  {
   "cell_type": "markdown",
   "metadata": {},
   "source": [
    "# get data by name"
   ]
  },
  {
   "cell_type": "code",
   "execution_count": 14,
   "metadata": {},
   "outputs": [],
   "source": [
    "x = np.random.normal(size=1000)\n",
    "y = x**2 + np.random.normal(size=1000)\n",
    "z = np.log(np.abs(x + y)) + np.random.normal(size=1000)"
   ]
  },
  {
   "cell_type": "code",
   "execution_count": 15,
   "metadata": {},
   "outputs": [],
   "source": [
    "data = np.array([x, y, z]).T"
   ]
  },
  {
   "cell_type": "code",
   "execution_count": 16,
   "metadata": {},
   "outputs": [],
   "source": [
    "dataset = Dataset(data, ['x', 'y', 'z'], ['x', 'y', 'z'])"
   ]
  },
  {
   "cell_type": "code",
   "execution_count": 17,
   "metadata": {},
   "outputs": [
    {
     "data": {
      "text/plain": [
       "True"
      ]
     },
     "execution_count": 17,
     "metadata": {},
     "output_type": "execute_result"
    }
   ],
   "source": [
    "np.array_equal(dataset['x'], x)"
   ]
  },
  {
   "cell_type": "code",
   "execution_count": 19,
   "metadata": {},
   "outputs": [
    {
     "data": {
      "text/plain": [
       "True"
      ]
     },
     "execution_count": 19,
     "metadata": {},
     "output_type": "execute_result"
    }
   ],
   "source": [
    "np.array_equal(dataset[['x', 'y']], np.array([x, y]).T)"
   ]
  },
  {
   "cell_type": "markdown",
   "metadata": {},
   "source": [
    "You can also use index"
   ]
  },
  {
   "cell_type": "code",
   "execution_count": 20,
   "metadata": {},
   "outputs": [
    {
     "data": {
      "text/plain": [
       "True"
      ]
     },
     "execution_count": 20,
     "metadata": {},
     "output_type": "execute_result"
    }
   ],
   "source": [
    "np.array_equal(dataset[:, 0], x)"
   ]
  },
  {
   "cell_type": "code",
   "execution_count": 21,
   "metadata": {},
   "outputs": [
    {
     "data": {
      "text/plain": [
       "True"
      ]
     },
     "execution_count": 21,
     "metadata": {},
     "output_type": "execute_result"
    }
   ],
   "source": [
    "np.array_equal(dataset[3:5, 'x'], x[3:5])"
   ]
  },
  {
   "cell_type": "markdown",
   "metadata": {},
   "source": [
    "# summary"
   ]
  },
  {
   "cell_type": "code",
   "execution_count": 22,
   "metadata": {},
   "outputs": [],
   "source": [
    "x = np.random.normal(size=1000)\n",
    "y = x**2 + np.random.normal(size=1000)\n",
    "z = np.log(np.abs(x + y)) + np.random.normal(size=1000)"
   ]
  },
  {
   "cell_type": "code",
   "execution_count": 23,
   "metadata": {},
   "outputs": [],
   "source": [
    "data = np.array([x, y, z]).T"
   ]
  },
  {
   "cell_type": "code",
   "execution_count": 24,
   "metadata": {},
   "outputs": [],
   "source": [
    "dataset = Dataset(data, ['x', 'y', 'z'], ['x', 'y', 'z'])"
   ]
  },
  {
   "cell_type": "code",
   "execution_count": 25,
   "metadata": {},
   "outputs": [
    {
     "data": {
      "text/plain": [
       "Dataset summary:\n",
       "  Data shape: (1000, 3)\n",
       "  Names: ['x' 'y' 'z']\n",
       "  Labels: ['x' 'y' 'z']"
      ]
     },
     "execution_count": 25,
     "metadata": {},
     "output_type": "execute_result"
    }
   ],
   "source": [
    "dataset"
   ]
  },
  {
   "cell_type": "code",
   "execution_count": 26,
   "metadata": {},
   "outputs": [
    {
     "name": "stdout",
     "output_type": "stream",
     "text": [
      "Dataset summary:\n",
      "  Data shape: (1000, 3)\n",
      "  Names: ['x' 'y' 'z']\n",
      "  Labels: ['x' 'y' 'z']\n",
      "\n"
     ]
    }
   ],
   "source": [
    "print(dataset)"
   ]
  },
  {
   "cell_type": "code",
   "execution_count": 28,
   "metadata": {},
   "outputs": [
    {
     "name": "stdout",
     "output_type": "stream",
     "text": [
      "Dataset summary:\n",
      "  Data shape: (1000, 3)\n",
      "  Names: ['x' 'y' 'z']\n",
      "  Labels: ['x' 'y' 'z']\n",
      "\n"
     ]
    }
   ],
   "source": [
    "dataset.summary()"
   ]
  },
  {
   "cell_type": "code",
   "execution_count": 16,
   "metadata": {},
   "outputs": [
    {
     "name": "stdout",
     "output_type": "stream",
     "text": [
      "Dataset summary:\n",
      "  Data shape: (1000, 3)\n",
      "  Names: ['x' 'y' 'z']\n",
      "  Labels: ['x' 'y' 'z']\n",
      "\n",
      "                 x            y            z\n",
      "count  1000.000000  1000.000000  1000.000000\n",
      "mean     -0.025854     1.071247    -0.044440\n",
      "std       1.015677     1.806471     1.518553\n",
      "min      -3.838911    -3.227975    -5.862311\n",
      "25%      -0.708563    -0.091099    -1.003846\n",
      "50%      -0.015643     0.835123     0.123353\n",
      "75%       0.667487     1.865543     1.014457\n",
      "max       3.554479    14.383491     3.916127\n"
     ]
    }
   ],
   "source": [
    "dataset.summary(stats_info=True)"
   ]
  },
  {
   "cell_type": "markdown",
   "metadata": {},
   "source": [
    "# add col"
   ]
  },
  {
   "cell_type": "code",
   "execution_count": 37,
   "metadata": {},
   "outputs": [],
   "source": [
    "x = np.random.normal(size=1000)\n",
    "y = x**2 + np.random.normal(size=1000)\n",
    "z = np.log(np.abs(x + y)) + np.random.normal(size=1000)"
   ]
  },
  {
   "cell_type": "code",
   "execution_count": 46,
   "metadata": {},
   "outputs": [],
   "source": [
    "data = np.array([x, y, z]).T"
   ]
  },
  {
   "cell_type": "code",
   "execution_count": 47,
   "metadata": {},
   "outputs": [],
   "source": [
    "dataset = Dataset(data, ['x', 'y', 'z'], ['x', 'y', 'z'])"
   ]
  },
  {
   "cell_type": "code",
   "execution_count": 48,
   "metadata": {},
   "outputs": [],
   "source": [
    "x2 = np.random.normal(size=1000)\n",
    "y2 = 5 * x2\n",
    "\n",
    "data2 = np.array([x2, y2]).T"
   ]
  },
  {
   "cell_type": "code",
   "execution_count": 49,
   "metadata": {},
   "outputs": [
    {
     "data": {
      "text/html": [
       "<div>\n",
       "<style scoped>\n",
       "    .dataframe tbody tr th:only-of-type {\n",
       "        vertical-align: middle;\n",
       "    }\n",
       "\n",
       "    .dataframe tbody tr th {\n",
       "        vertical-align: top;\n",
       "    }\n",
       "\n",
       "    .dataframe thead th {\n",
       "        text-align: right;\n",
       "    }\n",
       "</style>\n",
       "<table border=\"1\" class=\"dataframe\">\n",
       "  <thead>\n",
       "    <tr style=\"text-align: right;\">\n",
       "      <th></th>\n",
       "      <th>x</th>\n",
       "      <th>y</th>\n",
       "      <th>z</th>\n",
       "    </tr>\n",
       "  </thead>\n",
       "  <tbody>\n",
       "    <tr>\n",
       "      <th>0</th>\n",
       "      <td>-1.137142</td>\n",
       "      <td>-0.974268</td>\n",
       "      <td>0.909596</td>\n",
       "    </tr>\n",
       "    <tr>\n",
       "      <th>1</th>\n",
       "      <td>1.029991</td>\n",
       "      <td>1.074175</td>\n",
       "      <td>0.626206</td>\n",
       "    </tr>\n",
       "    <tr>\n",
       "      <th>2</th>\n",
       "      <td>1.552315</td>\n",
       "      <td>2.349624</td>\n",
       "      <td>2.781325</td>\n",
       "    </tr>\n",
       "    <tr>\n",
       "      <th>3</th>\n",
       "      <td>-1.699347</td>\n",
       "      <td>3.685266</td>\n",
       "      <td>0.243586</td>\n",
       "    </tr>\n",
       "    <tr>\n",
       "      <th>4</th>\n",
       "      <td>0.214618</td>\n",
       "      <td>1.147696</td>\n",
       "      <td>0.111977</td>\n",
       "    </tr>\n",
       "    <tr>\n",
       "      <th>...</th>\n",
       "      <td>...</td>\n",
       "      <td>...</td>\n",
       "      <td>...</td>\n",
       "    </tr>\n",
       "    <tr>\n",
       "      <th>995</th>\n",
       "      <td>-0.550150</td>\n",
       "      <td>0.938486</td>\n",
       "      <td>-1.859269</td>\n",
       "    </tr>\n",
       "    <tr>\n",
       "      <th>996</th>\n",
       "      <td>-0.165516</td>\n",
       "      <td>-0.497314</td>\n",
       "      <td>1.159583</td>\n",
       "    </tr>\n",
       "    <tr>\n",
       "      <th>997</th>\n",
       "      <td>-0.209933</td>\n",
       "      <td>-2.624383</td>\n",
       "      <td>0.815311</td>\n",
       "    </tr>\n",
       "    <tr>\n",
       "      <th>998</th>\n",
       "      <td>0.198190</td>\n",
       "      <td>-0.476242</td>\n",
       "      <td>-2.123235</td>\n",
       "    </tr>\n",
       "    <tr>\n",
       "      <th>999</th>\n",
       "      <td>-0.053041</td>\n",
       "      <td>-0.015460</td>\n",
       "      <td>-3.183307</td>\n",
       "    </tr>\n",
       "  </tbody>\n",
       "</table>\n",
       "<p>1000 rows × 3 columns</p>\n",
       "</div>"
      ],
      "text/plain": [
       "            x         y         z\n",
       "0   -1.137142 -0.974268  0.909596\n",
       "1    1.029991  1.074175  0.626206\n",
       "2    1.552315  2.349624  2.781325\n",
       "3   -1.699347  3.685266  0.243586\n",
       "4    0.214618  1.147696  0.111977\n",
       "..        ...       ...       ...\n",
       "995 -0.550150  0.938486 -1.859269\n",
       "996 -0.165516 -0.497314  1.159583\n",
       "997 -0.209933 -2.624383  0.815311\n",
       "998  0.198190 -0.476242 -2.123235\n",
       "999 -0.053041 -0.015460 -3.183307\n",
       "\n",
       "[1000 rows x 3 columns]"
      ]
     },
     "execution_count": 49,
     "metadata": {},
     "output_type": "execute_result"
    }
   ],
   "source": [
    "dataset.data"
   ]
  },
  {
   "cell_type": "code",
   "execution_count": 50,
   "metadata": {},
   "outputs": [],
   "source": [
    "dataset.add_col(data2, ['x2', 'y2'], ['x2', 'y2'])"
   ]
  },
  {
   "cell_type": "code",
   "execution_count": 51,
   "metadata": {},
   "outputs": [
    {
     "data": {
      "text/html": [
       "<div>\n",
       "<style scoped>\n",
       "    .dataframe tbody tr th:only-of-type {\n",
       "        vertical-align: middle;\n",
       "    }\n",
       "\n",
       "    .dataframe tbody tr th {\n",
       "        vertical-align: top;\n",
       "    }\n",
       "\n",
       "    .dataframe thead th {\n",
       "        text-align: right;\n",
       "    }\n",
       "</style>\n",
       "<table border=\"1\" class=\"dataframe\">\n",
       "  <thead>\n",
       "    <tr style=\"text-align: right;\">\n",
       "      <th></th>\n",
       "      <th>x</th>\n",
       "      <th>y</th>\n",
       "      <th>z</th>\n",
       "      <th>x2</th>\n",
       "      <th>y2</th>\n",
       "    </tr>\n",
       "  </thead>\n",
       "  <tbody>\n",
       "    <tr>\n",
       "      <th>0</th>\n",
       "      <td>-1.137142</td>\n",
       "      <td>-0.974268</td>\n",
       "      <td>0.909596</td>\n",
       "      <td>0.348718</td>\n",
       "      <td>1.743589</td>\n",
       "    </tr>\n",
       "    <tr>\n",
       "      <th>1</th>\n",
       "      <td>1.029991</td>\n",
       "      <td>1.074175</td>\n",
       "      <td>0.626206</td>\n",
       "      <td>-0.124680</td>\n",
       "      <td>-0.623402</td>\n",
       "    </tr>\n",
       "    <tr>\n",
       "      <th>2</th>\n",
       "      <td>1.552315</td>\n",
       "      <td>2.349624</td>\n",
       "      <td>2.781325</td>\n",
       "      <td>1.701707</td>\n",
       "      <td>8.508534</td>\n",
       "    </tr>\n",
       "    <tr>\n",
       "      <th>3</th>\n",
       "      <td>-1.699347</td>\n",
       "      <td>3.685266</td>\n",
       "      <td>0.243586</td>\n",
       "      <td>0.869031</td>\n",
       "      <td>4.345154</td>\n",
       "    </tr>\n",
       "    <tr>\n",
       "      <th>4</th>\n",
       "      <td>0.214618</td>\n",
       "      <td>1.147696</td>\n",
       "      <td>0.111977</td>\n",
       "      <td>-0.187036</td>\n",
       "      <td>-0.935178</td>\n",
       "    </tr>\n",
       "    <tr>\n",
       "      <th>...</th>\n",
       "      <td>...</td>\n",
       "      <td>...</td>\n",
       "      <td>...</td>\n",
       "      <td>...</td>\n",
       "      <td>...</td>\n",
       "    </tr>\n",
       "    <tr>\n",
       "      <th>995</th>\n",
       "      <td>-0.550150</td>\n",
       "      <td>0.938486</td>\n",
       "      <td>-1.859269</td>\n",
       "      <td>-0.116637</td>\n",
       "      <td>-0.583184</td>\n",
       "    </tr>\n",
       "    <tr>\n",
       "      <th>996</th>\n",
       "      <td>-0.165516</td>\n",
       "      <td>-0.497314</td>\n",
       "      <td>1.159583</td>\n",
       "      <td>0.875178</td>\n",
       "      <td>4.375890</td>\n",
       "    </tr>\n",
       "    <tr>\n",
       "      <th>997</th>\n",
       "      <td>-0.209933</td>\n",
       "      <td>-2.624383</td>\n",
       "      <td>0.815311</td>\n",
       "      <td>-0.774655</td>\n",
       "      <td>-3.873276</td>\n",
       "    </tr>\n",
       "    <tr>\n",
       "      <th>998</th>\n",
       "      <td>0.198190</td>\n",
       "      <td>-0.476242</td>\n",
       "      <td>-2.123235</td>\n",
       "      <td>-0.401572</td>\n",
       "      <td>-2.007860</td>\n",
       "    </tr>\n",
       "    <tr>\n",
       "      <th>999</th>\n",
       "      <td>-0.053041</td>\n",
       "      <td>-0.015460</td>\n",
       "      <td>-3.183307</td>\n",
       "      <td>-0.037497</td>\n",
       "      <td>-0.187486</td>\n",
       "    </tr>\n",
       "  </tbody>\n",
       "</table>\n",
       "<p>1000 rows × 5 columns</p>\n",
       "</div>"
      ],
      "text/plain": [
       "            x         y         z        x2        y2\n",
       "0   -1.137142 -0.974268  0.909596  0.348718  1.743589\n",
       "1    1.029991  1.074175  0.626206 -0.124680 -0.623402\n",
       "2    1.552315  2.349624  2.781325  1.701707  8.508534\n",
       "3   -1.699347  3.685266  0.243586  0.869031  4.345154\n",
       "4    0.214618  1.147696  0.111977 -0.187036 -0.935178\n",
       "..        ...       ...       ...       ...       ...\n",
       "995 -0.550150  0.938486 -1.859269 -0.116637 -0.583184\n",
       "996 -0.165516 -0.497314  1.159583  0.875178  4.375890\n",
       "997 -0.209933 -2.624383  0.815311 -0.774655 -3.873276\n",
       "998  0.198190 -0.476242 -2.123235 -0.401572 -2.007860\n",
       "999 -0.053041 -0.015460 -3.183307 -0.037497 -0.187486\n",
       "\n",
       "[1000 rows x 5 columns]"
      ]
     },
     "execution_count": 51,
     "metadata": {},
     "output_type": "execute_result"
    }
   ],
   "source": [
    "dataset.data"
   ]
  },
  {
   "cell_type": "code",
   "execution_count": 52,
   "metadata": {},
   "outputs": [
    {
     "data": {
      "text/plain": [
       "array(['x', 'y', 'z', 'x2', 'y2'], dtype='<U2')"
      ]
     },
     "execution_count": 52,
     "metadata": {},
     "output_type": "execute_result"
    }
   ],
   "source": [
    "dataset.labels"
   ]
  },
  {
   "cell_type": "code",
   "execution_count": 53,
   "metadata": {},
   "outputs": [
    {
     "data": {
      "text/plain": [
       "array(['x', 'y', 'z', 'x2', 'y2'], dtype='<U2')"
      ]
     },
     "execution_count": 53,
     "metadata": {},
     "output_type": "execute_result"
    }
   ],
   "source": [
    "dataset.names"
   ]
  },
  {
   "cell_type": "code",
   "execution_count": 54,
   "metadata": {},
   "outputs": [],
   "source": [
    "dataset.add_col(x2, 'x3', 'x3')"
   ]
  },
  {
   "cell_type": "code",
   "execution_count": 55,
   "metadata": {},
   "outputs": [
    {
     "data": {
      "text/html": [
       "<div>\n",
       "<style scoped>\n",
       "    .dataframe tbody tr th:only-of-type {\n",
       "        vertical-align: middle;\n",
       "    }\n",
       "\n",
       "    .dataframe tbody tr th {\n",
       "        vertical-align: top;\n",
       "    }\n",
       "\n",
       "    .dataframe thead th {\n",
       "        text-align: right;\n",
       "    }\n",
       "</style>\n",
       "<table border=\"1\" class=\"dataframe\">\n",
       "  <thead>\n",
       "    <tr style=\"text-align: right;\">\n",
       "      <th></th>\n",
       "      <th>x</th>\n",
       "      <th>y</th>\n",
       "      <th>z</th>\n",
       "      <th>x2</th>\n",
       "      <th>y2</th>\n",
       "      <th>x3</th>\n",
       "    </tr>\n",
       "  </thead>\n",
       "  <tbody>\n",
       "    <tr>\n",
       "      <th>0</th>\n",
       "      <td>-1.137142</td>\n",
       "      <td>-0.974268</td>\n",
       "      <td>0.909596</td>\n",
       "      <td>0.348718</td>\n",
       "      <td>1.743589</td>\n",
       "      <td>0.348718</td>\n",
       "    </tr>\n",
       "    <tr>\n",
       "      <th>1</th>\n",
       "      <td>1.029991</td>\n",
       "      <td>1.074175</td>\n",
       "      <td>0.626206</td>\n",
       "      <td>-0.124680</td>\n",
       "      <td>-0.623402</td>\n",
       "      <td>-0.124680</td>\n",
       "    </tr>\n",
       "    <tr>\n",
       "      <th>2</th>\n",
       "      <td>1.552315</td>\n",
       "      <td>2.349624</td>\n",
       "      <td>2.781325</td>\n",
       "      <td>1.701707</td>\n",
       "      <td>8.508534</td>\n",
       "      <td>1.701707</td>\n",
       "    </tr>\n",
       "    <tr>\n",
       "      <th>3</th>\n",
       "      <td>-1.699347</td>\n",
       "      <td>3.685266</td>\n",
       "      <td>0.243586</td>\n",
       "      <td>0.869031</td>\n",
       "      <td>4.345154</td>\n",
       "      <td>0.869031</td>\n",
       "    </tr>\n",
       "    <tr>\n",
       "      <th>4</th>\n",
       "      <td>0.214618</td>\n",
       "      <td>1.147696</td>\n",
       "      <td>0.111977</td>\n",
       "      <td>-0.187036</td>\n",
       "      <td>-0.935178</td>\n",
       "      <td>-0.187036</td>\n",
       "    </tr>\n",
       "    <tr>\n",
       "      <th>...</th>\n",
       "      <td>...</td>\n",
       "      <td>...</td>\n",
       "      <td>...</td>\n",
       "      <td>...</td>\n",
       "      <td>...</td>\n",
       "      <td>...</td>\n",
       "    </tr>\n",
       "    <tr>\n",
       "      <th>995</th>\n",
       "      <td>-0.550150</td>\n",
       "      <td>0.938486</td>\n",
       "      <td>-1.859269</td>\n",
       "      <td>-0.116637</td>\n",
       "      <td>-0.583184</td>\n",
       "      <td>-0.116637</td>\n",
       "    </tr>\n",
       "    <tr>\n",
       "      <th>996</th>\n",
       "      <td>-0.165516</td>\n",
       "      <td>-0.497314</td>\n",
       "      <td>1.159583</td>\n",
       "      <td>0.875178</td>\n",
       "      <td>4.375890</td>\n",
       "      <td>0.875178</td>\n",
       "    </tr>\n",
       "    <tr>\n",
       "      <th>997</th>\n",
       "      <td>-0.209933</td>\n",
       "      <td>-2.624383</td>\n",
       "      <td>0.815311</td>\n",
       "      <td>-0.774655</td>\n",
       "      <td>-3.873276</td>\n",
       "      <td>-0.774655</td>\n",
       "    </tr>\n",
       "    <tr>\n",
       "      <th>998</th>\n",
       "      <td>0.198190</td>\n",
       "      <td>-0.476242</td>\n",
       "      <td>-2.123235</td>\n",
       "      <td>-0.401572</td>\n",
       "      <td>-2.007860</td>\n",
       "      <td>-0.401572</td>\n",
       "    </tr>\n",
       "    <tr>\n",
       "      <th>999</th>\n",
       "      <td>-0.053041</td>\n",
       "      <td>-0.015460</td>\n",
       "      <td>-3.183307</td>\n",
       "      <td>-0.037497</td>\n",
       "      <td>-0.187486</td>\n",
       "      <td>-0.037497</td>\n",
       "    </tr>\n",
       "  </tbody>\n",
       "</table>\n",
       "<p>1000 rows × 6 columns</p>\n",
       "</div>"
      ],
      "text/plain": [
       "            x         y         z        x2        y2        x3\n",
       "0   -1.137142 -0.974268  0.909596  0.348718  1.743589  0.348718\n",
       "1    1.029991  1.074175  0.626206 -0.124680 -0.623402 -0.124680\n",
       "2    1.552315  2.349624  2.781325  1.701707  8.508534  1.701707\n",
       "3   -1.699347  3.685266  0.243586  0.869031  4.345154  0.869031\n",
       "4    0.214618  1.147696  0.111977 -0.187036 -0.935178 -0.187036\n",
       "..        ...       ...       ...       ...       ...       ...\n",
       "995 -0.550150  0.938486 -1.859269 -0.116637 -0.583184 -0.116637\n",
       "996 -0.165516 -0.497314  1.159583  0.875178  4.375890  0.875178\n",
       "997 -0.209933 -2.624383  0.815311 -0.774655 -3.873276 -0.774655\n",
       "998  0.198190 -0.476242 -2.123235 -0.401572 -2.007860 -0.401572\n",
       "999 -0.053041 -0.015460 -3.183307 -0.037497 -0.187486 -0.037497\n",
       "\n",
       "[1000 rows x 6 columns]"
      ]
     },
     "execution_count": 55,
     "metadata": {},
     "output_type": "execute_result"
    }
   ],
   "source": [
    "dataset.data"
   ]
  },
  {
   "cell_type": "code",
   "execution_count": 56,
   "metadata": {},
   "outputs": [
    {
     "data": {
      "text/plain": [
       "array(['x', 'y', 'z', 'x2', 'y2', 'x3'], dtype='<U2')"
      ]
     },
     "execution_count": 56,
     "metadata": {},
     "output_type": "execute_result"
    }
   ],
   "source": [
    "dataset.names"
   ]
  },
  {
   "cell_type": "code",
   "execution_count": 57,
   "metadata": {},
   "outputs": [],
   "source": [
    "dataset['x4'] = x"
   ]
  },
  {
   "cell_type": "code",
   "execution_count": 58,
   "metadata": {},
   "outputs": [
    {
     "data": {
      "text/plain": [
       "array(['x', 'y', 'z', 'x2', 'y2', 'x3', 'x4'], dtype='<U2')"
      ]
     },
     "execution_count": 58,
     "metadata": {},
     "output_type": "execute_result"
    }
   ],
   "source": [
    "dataset.names"
   ]
  },
  {
   "cell_type": "code",
   "execution_count": 61,
   "metadata": {},
   "outputs": [
    {
     "data": {
      "text/html": [
       "<div>\n",
       "<style scoped>\n",
       "    .dataframe tbody tr th:only-of-type {\n",
       "        vertical-align: middle;\n",
       "    }\n",
       "\n",
       "    .dataframe tbody tr th {\n",
       "        vertical-align: top;\n",
       "    }\n",
       "\n",
       "    .dataframe thead th {\n",
       "        text-align: right;\n",
       "    }\n",
       "</style>\n",
       "<table border=\"1\" class=\"dataframe\">\n",
       "  <thead>\n",
       "    <tr style=\"text-align: right;\">\n",
       "      <th></th>\n",
       "      <th>x</th>\n",
       "      <th>y</th>\n",
       "      <th>z</th>\n",
       "      <th>x2</th>\n",
       "      <th>y2</th>\n",
       "      <th>x3</th>\n",
       "      <th>x4</th>\n",
       "    </tr>\n",
       "  </thead>\n",
       "  <tbody>\n",
       "    <tr>\n",
       "      <th>0</th>\n",
       "      <td>-1.137142</td>\n",
       "      <td>-0.974268</td>\n",
       "      <td>0.909596</td>\n",
       "      <td>0.348718</td>\n",
       "      <td>1.743589</td>\n",
       "      <td>0.348718</td>\n",
       "      <td>-1.137142</td>\n",
       "    </tr>\n",
       "    <tr>\n",
       "      <th>1</th>\n",
       "      <td>1.029991</td>\n",
       "      <td>1.074175</td>\n",
       "      <td>0.626206</td>\n",
       "      <td>-0.124680</td>\n",
       "      <td>-0.623402</td>\n",
       "      <td>-0.124680</td>\n",
       "      <td>1.029991</td>\n",
       "    </tr>\n",
       "    <tr>\n",
       "      <th>2</th>\n",
       "      <td>1.552315</td>\n",
       "      <td>2.349624</td>\n",
       "      <td>2.781325</td>\n",
       "      <td>1.701707</td>\n",
       "      <td>8.508534</td>\n",
       "      <td>1.701707</td>\n",
       "      <td>1.552315</td>\n",
       "    </tr>\n",
       "    <tr>\n",
       "      <th>3</th>\n",
       "      <td>-1.699347</td>\n",
       "      <td>3.685266</td>\n",
       "      <td>0.243586</td>\n",
       "      <td>0.869031</td>\n",
       "      <td>4.345154</td>\n",
       "      <td>0.869031</td>\n",
       "      <td>-1.699347</td>\n",
       "    </tr>\n",
       "    <tr>\n",
       "      <th>4</th>\n",
       "      <td>0.214618</td>\n",
       "      <td>1.147696</td>\n",
       "      <td>0.111977</td>\n",
       "      <td>-0.187036</td>\n",
       "      <td>-0.935178</td>\n",
       "      <td>-0.187036</td>\n",
       "      <td>0.214618</td>\n",
       "    </tr>\n",
       "    <tr>\n",
       "      <th>...</th>\n",
       "      <td>...</td>\n",
       "      <td>...</td>\n",
       "      <td>...</td>\n",
       "      <td>...</td>\n",
       "      <td>...</td>\n",
       "      <td>...</td>\n",
       "      <td>...</td>\n",
       "    </tr>\n",
       "    <tr>\n",
       "      <th>995</th>\n",
       "      <td>-0.550150</td>\n",
       "      <td>0.938486</td>\n",
       "      <td>-1.859269</td>\n",
       "      <td>-0.116637</td>\n",
       "      <td>-0.583184</td>\n",
       "      <td>-0.116637</td>\n",
       "      <td>-0.550150</td>\n",
       "    </tr>\n",
       "    <tr>\n",
       "      <th>996</th>\n",
       "      <td>-0.165516</td>\n",
       "      <td>-0.497314</td>\n",
       "      <td>1.159583</td>\n",
       "      <td>0.875178</td>\n",
       "      <td>4.375890</td>\n",
       "      <td>0.875178</td>\n",
       "      <td>-0.165516</td>\n",
       "    </tr>\n",
       "    <tr>\n",
       "      <th>997</th>\n",
       "      <td>-0.209933</td>\n",
       "      <td>-2.624383</td>\n",
       "      <td>0.815311</td>\n",
       "      <td>-0.774655</td>\n",
       "      <td>-3.873276</td>\n",
       "      <td>-0.774655</td>\n",
       "      <td>-0.209933</td>\n",
       "    </tr>\n",
       "    <tr>\n",
       "      <th>998</th>\n",
       "      <td>0.198190</td>\n",
       "      <td>-0.476242</td>\n",
       "      <td>-2.123235</td>\n",
       "      <td>-0.401572</td>\n",
       "      <td>-2.007860</td>\n",
       "      <td>-0.401572</td>\n",
       "      <td>0.198190</td>\n",
       "    </tr>\n",
       "    <tr>\n",
       "      <th>999</th>\n",
       "      <td>-0.053041</td>\n",
       "      <td>-0.015460</td>\n",
       "      <td>-3.183307</td>\n",
       "      <td>-0.037497</td>\n",
       "      <td>-0.187486</td>\n",
       "      <td>-0.037497</td>\n",
       "      <td>-0.053041</td>\n",
       "    </tr>\n",
       "  </tbody>\n",
       "</table>\n",
       "<p>1000 rows × 7 columns</p>\n",
       "</div>"
      ],
      "text/plain": [
       "            x         y         z        x2        y2        x3        x4\n",
       "0   -1.137142 -0.974268  0.909596  0.348718  1.743589  0.348718 -1.137142\n",
       "1    1.029991  1.074175  0.626206 -0.124680 -0.623402 -0.124680  1.029991\n",
       "2    1.552315  2.349624  2.781325  1.701707  8.508534  1.701707  1.552315\n",
       "3   -1.699347  3.685266  0.243586  0.869031  4.345154  0.869031 -1.699347\n",
       "4    0.214618  1.147696  0.111977 -0.187036 -0.935178 -0.187036  0.214618\n",
       "..        ...       ...       ...       ...       ...       ...       ...\n",
       "995 -0.550150  0.938486 -1.859269 -0.116637 -0.583184 -0.116637 -0.550150\n",
       "996 -0.165516 -0.497314  1.159583  0.875178  4.375890  0.875178 -0.165516\n",
       "997 -0.209933 -2.624383  0.815311 -0.774655 -3.873276 -0.774655 -0.209933\n",
       "998  0.198190 -0.476242 -2.123235 -0.401572 -2.007860 -0.401572  0.198190\n",
       "999 -0.053041 -0.015460 -3.183307 -0.037497 -0.187486 -0.037497 -0.053041\n",
       "\n",
       "[1000 rows x 7 columns]"
      ]
     },
     "execution_count": 61,
     "metadata": {},
     "output_type": "execute_result"
    }
   ],
   "source": [
    "dataset.data"
   ]
  },
  {
   "cell_type": "code",
   "execution_count": 62,
   "metadata": {},
   "outputs": [
    {
     "data": {
      "text/plain": [
       "True"
      ]
     },
     "execution_count": 62,
     "metadata": {},
     "output_type": "execute_result"
    }
   ],
   "source": [
    "np.array_equal(dataset['x4'], dataset['x'])"
   ]
  },
  {
   "cell_type": "markdown",
   "metadata": {},
   "source": [
    "# add row"
   ]
  },
  {
   "cell_type": "code",
   "execution_count": 95,
   "metadata": {},
   "outputs": [],
   "source": [
    "x = np.random.normal(size=2)\n",
    "y = x**2 + np.random.normal(size=2)\n",
    "z = np.log(np.abs(x + y)) + np.random.normal(size=2)\n",
    "\n",
    "data = np.array([x, y, z]).T"
   ]
  },
  {
   "cell_type": "code",
   "execution_count": 100,
   "metadata": {},
   "outputs": [],
   "source": [
    "dataset = Dataset(data, ['x', 'y', 'z'], ['x', 'y', 'z'])"
   ]
  },
  {
   "cell_type": "code",
   "execution_count": 101,
   "metadata": {},
   "outputs": [
    {
     "data": {
      "text/html": [
       "<div>\n",
       "<style scoped>\n",
       "    .dataframe tbody tr th:only-of-type {\n",
       "        vertical-align: middle;\n",
       "    }\n",
       "\n",
       "    .dataframe tbody tr th {\n",
       "        vertical-align: top;\n",
       "    }\n",
       "\n",
       "    .dataframe thead th {\n",
       "        text-align: right;\n",
       "    }\n",
       "</style>\n",
       "<table border=\"1\" class=\"dataframe\">\n",
       "  <thead>\n",
       "    <tr style=\"text-align: right;\">\n",
       "      <th></th>\n",
       "      <th>x</th>\n",
       "      <th>y</th>\n",
       "      <th>z</th>\n",
       "    </tr>\n",
       "  </thead>\n",
       "  <tbody>\n",
       "    <tr>\n",
       "      <th>0</th>\n",
       "      <td>1.233423</td>\n",
       "      <td>0.604179</td>\n",
       "      <td>-0.128928</td>\n",
       "    </tr>\n",
       "    <tr>\n",
       "      <th>1</th>\n",
       "      <td>-0.425753</td>\n",
       "      <td>-0.458585</td>\n",
       "      <td>-0.023920</td>\n",
       "    </tr>\n",
       "  </tbody>\n",
       "</table>\n",
       "</div>"
      ],
      "text/plain": [
       "          x         y         z\n",
       "0  1.233423  0.604179 -0.128928\n",
       "1 -0.425753 -0.458585 -0.023920"
      ]
     },
     "execution_count": 101,
     "metadata": {},
     "output_type": "execute_result"
    }
   ],
   "source": [
    "dataset.data"
   ]
  },
  {
   "cell_type": "code",
   "execution_count": 102,
   "metadata": {},
   "outputs": [],
   "source": [
    "dataset.add_row(data)"
   ]
  },
  {
   "cell_type": "code",
   "execution_count": 103,
   "metadata": {},
   "outputs": [
    {
     "data": {
      "text/html": [
       "<div>\n",
       "<style scoped>\n",
       "    .dataframe tbody tr th:only-of-type {\n",
       "        vertical-align: middle;\n",
       "    }\n",
       "\n",
       "    .dataframe tbody tr th {\n",
       "        vertical-align: top;\n",
       "    }\n",
       "\n",
       "    .dataframe thead th {\n",
       "        text-align: right;\n",
       "    }\n",
       "</style>\n",
       "<table border=\"1\" class=\"dataframe\">\n",
       "  <thead>\n",
       "    <tr style=\"text-align: right;\">\n",
       "      <th></th>\n",
       "      <th>x</th>\n",
       "      <th>y</th>\n",
       "      <th>z</th>\n",
       "    </tr>\n",
       "  </thead>\n",
       "  <tbody>\n",
       "    <tr>\n",
       "      <th>0</th>\n",
       "      <td>1.233423</td>\n",
       "      <td>0.604179</td>\n",
       "      <td>-0.128928</td>\n",
       "    </tr>\n",
       "    <tr>\n",
       "      <th>1</th>\n",
       "      <td>-0.425753</td>\n",
       "      <td>-0.458585</td>\n",
       "      <td>-0.023920</td>\n",
       "    </tr>\n",
       "    <tr>\n",
       "      <th>2</th>\n",
       "      <td>1.233423</td>\n",
       "      <td>0.604179</td>\n",
       "      <td>-0.128928</td>\n",
       "    </tr>\n",
       "    <tr>\n",
       "      <th>3</th>\n",
       "      <td>-0.425753</td>\n",
       "      <td>-0.458585</td>\n",
       "      <td>-0.023920</td>\n",
       "    </tr>\n",
       "  </tbody>\n",
       "</table>\n",
       "</div>"
      ],
      "text/plain": [
       "          x         y         z\n",
       "0  1.233423  0.604179 -0.128928\n",
       "1 -0.425753 -0.458585 -0.023920\n",
       "2  1.233423  0.604179 -0.128928\n",
       "3 -0.425753 -0.458585 -0.023920"
      ]
     },
     "execution_count": 103,
     "metadata": {},
     "output_type": "execute_result"
    }
   ],
   "source": [
    "dataset.data"
   ]
  },
  {
   "cell_type": "markdown",
   "metadata": {},
   "source": [
    "# delete col"
   ]
  },
  {
   "cell_type": "code",
   "execution_count": 108,
   "metadata": {},
   "outputs": [],
   "source": [
    "x = np.random.normal(size=2)\n",
    "y = x**2 + np.random.normal(size=2)\n",
    "z = np.log(np.abs(x + y)) + np.random.normal(size=2)\n",
    "\n",
    "data = np.array([x, y, z]).T"
   ]
  },
  {
   "cell_type": "code",
   "execution_count": 109,
   "metadata": {},
   "outputs": [],
   "source": [
    "dataset = Dataset(data, ['x', 'y', 'z'], ['x', 'y', 'z'])"
   ]
  },
  {
   "cell_type": "code",
   "execution_count": 110,
   "metadata": {},
   "outputs": [
    {
     "data": {
      "text/html": [
       "<div>\n",
       "<style scoped>\n",
       "    .dataframe tbody tr th:only-of-type {\n",
       "        vertical-align: middle;\n",
       "    }\n",
       "\n",
       "    .dataframe tbody tr th {\n",
       "        vertical-align: top;\n",
       "    }\n",
       "\n",
       "    .dataframe thead th {\n",
       "        text-align: right;\n",
       "    }\n",
       "</style>\n",
       "<table border=\"1\" class=\"dataframe\">\n",
       "  <thead>\n",
       "    <tr style=\"text-align: right;\">\n",
       "      <th></th>\n",
       "      <th>x</th>\n",
       "      <th>y</th>\n",
       "      <th>z</th>\n",
       "    </tr>\n",
       "  </thead>\n",
       "  <tbody>\n",
       "    <tr>\n",
       "      <th>0</th>\n",
       "      <td>-0.443916</td>\n",
       "      <td>0.493411</td>\n",
       "      <td>-4.114659</td>\n",
       "    </tr>\n",
       "    <tr>\n",
       "      <th>1</th>\n",
       "      <td>-1.629540</td>\n",
       "      <td>0.429475</td>\n",
       "      <td>0.724056</td>\n",
       "    </tr>\n",
       "  </tbody>\n",
       "</table>\n",
       "</div>"
      ],
      "text/plain": [
       "          x         y         z\n",
       "0 -0.443916  0.493411 -4.114659\n",
       "1 -1.629540  0.429475  0.724056"
      ]
     },
     "execution_count": 110,
     "metadata": {},
     "output_type": "execute_result"
    }
   ],
   "source": [
    "dataset.data"
   ]
  },
  {
   "cell_type": "code",
   "execution_count": 111,
   "metadata": {},
   "outputs": [],
   "source": [
    "dataset.del_col(1)"
   ]
  },
  {
   "cell_type": "code",
   "execution_count": 112,
   "metadata": {},
   "outputs": [
    {
     "data": {
      "text/html": [
       "<div>\n",
       "<style scoped>\n",
       "    .dataframe tbody tr th:only-of-type {\n",
       "        vertical-align: middle;\n",
       "    }\n",
       "\n",
       "    .dataframe tbody tr th {\n",
       "        vertical-align: top;\n",
       "    }\n",
       "\n",
       "    .dataframe thead th {\n",
       "        text-align: right;\n",
       "    }\n",
       "</style>\n",
       "<table border=\"1\" class=\"dataframe\">\n",
       "  <thead>\n",
       "    <tr style=\"text-align: right;\">\n",
       "      <th></th>\n",
       "      <th>x</th>\n",
       "      <th>z</th>\n",
       "    </tr>\n",
       "  </thead>\n",
       "  <tbody>\n",
       "    <tr>\n",
       "      <th>0</th>\n",
       "      <td>-0.443916</td>\n",
       "      <td>-4.114659</td>\n",
       "    </tr>\n",
       "    <tr>\n",
       "      <th>1</th>\n",
       "      <td>-1.629540</td>\n",
       "      <td>0.724056</td>\n",
       "    </tr>\n",
       "  </tbody>\n",
       "</table>\n",
       "</div>"
      ],
      "text/plain": [
       "          x         z\n",
       "0 -0.443916 -4.114659\n",
       "1 -1.629540  0.724056"
      ]
     },
     "execution_count": 112,
     "metadata": {},
     "output_type": "execute_result"
    }
   ],
   "source": [
    "dataset.data"
   ]
  },
  {
   "cell_type": "code",
   "execution_count": 113,
   "metadata": {},
   "outputs": [
    {
     "name": "stdout",
     "output_type": "stream",
     "text": [
      "Dataset summary:\n",
      "  Data shape: (2, 2)\n",
      "  Names: ['x' 'z']\n",
      "  Labels: ['x' 'z']\n",
      "\n"
     ]
    }
   ],
   "source": [
    "dataset.summary()"
   ]
  },
  {
   "cell_type": "code",
   "execution_count": 114,
   "metadata": {},
   "outputs": [],
   "source": [
    "dataset.del_col('x')"
   ]
  },
  {
   "cell_type": "code",
   "execution_count": 115,
   "metadata": {},
   "outputs": [
    {
     "data": {
      "text/html": [
       "<div>\n",
       "<style scoped>\n",
       "    .dataframe tbody tr th:only-of-type {\n",
       "        vertical-align: middle;\n",
       "    }\n",
       "\n",
       "    .dataframe tbody tr th {\n",
       "        vertical-align: top;\n",
       "    }\n",
       "\n",
       "    .dataframe thead th {\n",
       "        text-align: right;\n",
       "    }\n",
       "</style>\n",
       "<table border=\"1\" class=\"dataframe\">\n",
       "  <thead>\n",
       "    <tr style=\"text-align: right;\">\n",
       "      <th></th>\n",
       "      <th>z</th>\n",
       "    </tr>\n",
       "  </thead>\n",
       "  <tbody>\n",
       "    <tr>\n",
       "      <th>0</th>\n",
       "      <td>-4.114659</td>\n",
       "    </tr>\n",
       "    <tr>\n",
       "      <th>1</th>\n",
       "      <td>0.724056</td>\n",
       "    </tr>\n",
       "  </tbody>\n",
       "</table>\n",
       "</div>"
      ],
      "text/plain": [
       "          z\n",
       "0 -4.114659\n",
       "1  0.724056"
      ]
     },
     "execution_count": 115,
     "metadata": {},
     "output_type": "execute_result"
    }
   ],
   "source": [
    "dataset.data"
   ]
  },
  {
   "cell_type": "code",
   "execution_count": 116,
   "metadata": {},
   "outputs": [
    {
     "name": "stdout",
     "output_type": "stream",
     "text": [
      "Dataset summary:\n",
      "  Data shape: (2, 1)\n",
      "  Names: ['z']\n",
      "  Labels: ['z']\n",
      "\n"
     ]
    }
   ],
   "source": [
    "dataset.summary()"
   ]
  },
  {
   "cell_type": "markdown",
   "metadata": {},
   "source": [
    "# delete row"
   ]
  },
  {
   "cell_type": "code",
   "execution_count": 136,
   "metadata": {},
   "outputs": [],
   "source": [
    "x = np.random.normal(size=5)\n",
    "y = x**2 + np.random.normal(size=5)\n",
    "z = np.log(np.abs(x + y)) + np.random.normal(size=5)\n",
    "\n",
    "data = np.array([x, y, z]).T"
   ]
  },
  {
   "cell_type": "code",
   "execution_count": 137,
   "metadata": {},
   "outputs": [],
   "source": [
    "dataset = Dataset(data, ['x', 'y', 'z'], ['x', 'y', 'z'])"
   ]
  },
  {
   "cell_type": "code",
   "execution_count": 138,
   "metadata": {},
   "outputs": [
    {
     "data": {
      "text/html": [
       "<div>\n",
       "<style scoped>\n",
       "    .dataframe tbody tr th:only-of-type {\n",
       "        vertical-align: middle;\n",
       "    }\n",
       "\n",
       "    .dataframe tbody tr th {\n",
       "        vertical-align: top;\n",
       "    }\n",
       "\n",
       "    .dataframe thead th {\n",
       "        text-align: right;\n",
       "    }\n",
       "</style>\n",
       "<table border=\"1\" class=\"dataframe\">\n",
       "  <thead>\n",
       "    <tr style=\"text-align: right;\">\n",
       "      <th></th>\n",
       "      <th>x</th>\n",
       "      <th>y</th>\n",
       "      <th>z</th>\n",
       "    </tr>\n",
       "  </thead>\n",
       "  <tbody>\n",
       "    <tr>\n",
       "      <th>0</th>\n",
       "      <td>1.206616</td>\n",
       "      <td>0.507058</td>\n",
       "      <td>-0.204432</td>\n",
       "    </tr>\n",
       "    <tr>\n",
       "      <th>1</th>\n",
       "      <td>1.882319</td>\n",
       "      <td>3.982455</td>\n",
       "      <td>2.711170</td>\n",
       "    </tr>\n",
       "    <tr>\n",
       "      <th>2</th>\n",
       "      <td>1.653985</td>\n",
       "      <td>2.708242</td>\n",
       "      <td>1.677328</td>\n",
       "    </tr>\n",
       "    <tr>\n",
       "      <th>3</th>\n",
       "      <td>-0.733088</td>\n",
       "      <td>0.431928</td>\n",
       "      <td>-1.673366</td>\n",
       "    </tr>\n",
       "    <tr>\n",
       "      <th>4</th>\n",
       "      <td>0.066111</td>\n",
       "      <td>-0.324730</td>\n",
       "      <td>-2.248367</td>\n",
       "    </tr>\n",
       "  </tbody>\n",
       "</table>\n",
       "</div>"
      ],
      "text/plain": [
       "          x         y         z\n",
       "0  1.206616  0.507058 -0.204432\n",
       "1  1.882319  3.982455  2.711170\n",
       "2  1.653985  2.708242  1.677328\n",
       "3 -0.733088  0.431928 -1.673366\n",
       "4  0.066111 -0.324730 -2.248367"
      ]
     },
     "execution_count": 138,
     "metadata": {},
     "output_type": "execute_result"
    }
   ],
   "source": [
    "dataset.data"
   ]
  },
  {
   "cell_type": "code",
   "execution_count": 139,
   "metadata": {},
   "outputs": [],
   "source": [
    "dataset.del_row(1)"
   ]
  },
  {
   "cell_type": "code",
   "execution_count": 140,
   "metadata": {},
   "outputs": [
    {
     "data": {
      "text/html": [
       "<div>\n",
       "<style scoped>\n",
       "    .dataframe tbody tr th:only-of-type {\n",
       "        vertical-align: middle;\n",
       "    }\n",
       "\n",
       "    .dataframe tbody tr th {\n",
       "        vertical-align: top;\n",
       "    }\n",
       "\n",
       "    .dataframe thead th {\n",
       "        text-align: right;\n",
       "    }\n",
       "</style>\n",
       "<table border=\"1\" class=\"dataframe\">\n",
       "  <thead>\n",
       "    <tr style=\"text-align: right;\">\n",
       "      <th></th>\n",
       "      <th>x</th>\n",
       "      <th>y</th>\n",
       "      <th>z</th>\n",
       "    </tr>\n",
       "  </thead>\n",
       "  <tbody>\n",
       "    <tr>\n",
       "      <th>0</th>\n",
       "      <td>1.206616</td>\n",
       "      <td>0.507058</td>\n",
       "      <td>-0.204432</td>\n",
       "    </tr>\n",
       "    <tr>\n",
       "      <th>1</th>\n",
       "      <td>1.653985</td>\n",
       "      <td>2.708242</td>\n",
       "      <td>1.677328</td>\n",
       "    </tr>\n",
       "    <tr>\n",
       "      <th>2</th>\n",
       "      <td>-0.733088</td>\n",
       "      <td>0.431928</td>\n",
       "      <td>-1.673366</td>\n",
       "    </tr>\n",
       "    <tr>\n",
       "      <th>3</th>\n",
       "      <td>0.066111</td>\n",
       "      <td>-0.324730</td>\n",
       "      <td>-2.248367</td>\n",
       "    </tr>\n",
       "  </tbody>\n",
       "</table>\n",
       "</div>"
      ],
      "text/plain": [
       "          x         y         z\n",
       "0  1.206616  0.507058 -0.204432\n",
       "1  1.653985  2.708242  1.677328\n",
       "2 -0.733088  0.431928 -1.673366\n",
       "3  0.066111 -0.324730 -2.248367"
      ]
     },
     "execution_count": 140,
     "metadata": {},
     "output_type": "execute_result"
    }
   ],
   "source": [
    "dataset.data"
   ]
  },
  {
   "cell_type": "code",
   "execution_count": 141,
   "metadata": {},
   "outputs": [],
   "source": [
    "dataset.del_row([1, 2])\n"
   ]
  },
  {
   "cell_type": "code",
   "execution_count": 142,
   "metadata": {},
   "outputs": [
    {
     "data": {
      "text/html": [
       "<div>\n",
       "<style scoped>\n",
       "    .dataframe tbody tr th:only-of-type {\n",
       "        vertical-align: middle;\n",
       "    }\n",
       "\n",
       "    .dataframe tbody tr th {\n",
       "        vertical-align: top;\n",
       "    }\n",
       "\n",
       "    .dataframe thead th {\n",
       "        text-align: right;\n",
       "    }\n",
       "</style>\n",
       "<table border=\"1\" class=\"dataframe\">\n",
       "  <thead>\n",
       "    <tr style=\"text-align: right;\">\n",
       "      <th></th>\n",
       "      <th>x</th>\n",
       "      <th>y</th>\n",
       "      <th>z</th>\n",
       "    </tr>\n",
       "  </thead>\n",
       "  <tbody>\n",
       "    <tr>\n",
       "      <th>0</th>\n",
       "      <td>1.206616</td>\n",
       "      <td>0.507058</td>\n",
       "      <td>-0.204432</td>\n",
       "    </tr>\n",
       "    <tr>\n",
       "      <th>1</th>\n",
       "      <td>0.066111</td>\n",
       "      <td>-0.324730</td>\n",
       "      <td>-2.248367</td>\n",
       "    </tr>\n",
       "  </tbody>\n",
       "</table>\n",
       "</div>"
      ],
      "text/plain": [
       "          x         y         z\n",
       "0  1.206616  0.507058 -0.204432\n",
       "1  0.066111 -0.324730 -2.248367"
      ]
     },
     "execution_count": 142,
     "metadata": {},
     "output_type": "execute_result"
    }
   ],
   "source": [
    "dataset.data"
   ]
  }
 ],
 "metadata": {
  "kernelspec": {
   "display_name": "Python 3 (ipykernel)",
   "language": "python",
   "name": "python3"
  },
  "language_info": {
   "codemirror_mode": {
    "name": "ipython",
    "version": 3
   },
   "file_extension": ".py",
   "mimetype": "text/x-python",
   "name": "python",
   "nbconvert_exporter": "python",
   "pygments_lexer": "ipython3",
   "version": "3.9.13"
  }
 },
 "nbformat": 4,
 "nbformat_minor": 2
}
