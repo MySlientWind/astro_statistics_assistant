{
 "cells": [
  {
   "cell_type": "code",
   "execution_count": 8,
   "metadata": {},
   "outputs": [],
   "source": [
    "%reload_ext autoreload\n",
    "%autoreload 2"
   ]
  },
  {
   "cell_type": "code",
   "execution_count": 9,
   "metadata": {},
   "outputs": [],
   "source": [
    "import numpy as np\n",
    "from scipy.special import expit\n",
    "import matplotlib.pyplot as plt\n",
    "from sklearn.datasets import make_classification\n",
    "from asa.feature_selection_methods import search_combination_OLS, search_combination_RF_reg, search_combination_RF_cls\n",
    "from asa.dataset import Dataset"
   ]
  },
  {
   "cell_type": "markdown",
   "metadata": {},
   "source": [
    "## Use func"
   ]
  },
  {
   "cell_type": "markdown",
   "metadata": {},
   "source": [
    "### Regression"
   ]
  },
  {
   "cell_type": "code",
   "execution_count": 10,
   "metadata": {},
   "outputs": [],
   "source": [
    "X = np.random.rand(100, 10)\n",
    "y = X[:, 2] + 0.5 * X[:, 5] + 0.3 * X[:, 8] +  np.random.rand(100)"
   ]
  },
  {
   "cell_type": "markdown",
   "metadata": {},
   "source": [
    "#### OLS"
   ]
  },
  {
   "cell_type": "code",
   "execution_count": 18,
   "metadata": {},
   "outputs": [
    {
     "data": {
      "text/plain": [
       "((2, 5),\n",
       " (<statsmodels.regression.linear_model.RegressionResultsWrapper at 0x24fb0cb14c0>,\n",
       "  <function asa.linear_model.linear_model.get_OLS_nd.<locals>.func(X)>))"
      ]
     },
     "execution_count": 18,
     "metadata": {},
     "output_type": "execute_result"
    }
   ],
   "source": [
    "search_combination_OLS(X, y)"
   ]
  },
  {
   "cell_type": "code",
   "execution_count": 19,
   "metadata": {},
   "outputs": [
    {
     "data": {
      "text/plain": [
       "((1, 2, 5, 7, 8),\n",
       " (<statsmodels.regression.linear_model.RegressionResultsWrapper at 0x24fb0c68e80>,\n",
       "  <function asa.linear_model.linear_model.get_OLS_nd.<locals>.func(X)>))"
      ]
     },
     "execution_count": 19,
     "metadata": {},
     "output_type": "execute_result"
    }
   ],
   "source": [
    "search_combination_OLS(X, y, n_components=5)"
   ]
  },
  {
   "cell_type": "code",
   "execution_count": 20,
   "metadata": {},
   "outputs": [
    {
     "data": {
      "text/plain": [
       "((2, 5, 8),\n",
       " (<statsmodels.regression.linear_model.RegressionResultsWrapper at 0x24fb0a72df0>,\n",
       "  <function asa.linear_model.linear_model.get_OLS_nd.<locals>.func(X)>))"
      ]
     },
     "execution_count": 20,
     "metadata": {},
     "output_type": "execute_result"
    }
   ],
   "source": [
    "search_combination_OLS(X, y, n_components=5, metric='bic', allowe_small_n=True)"
   ]
  },
  {
   "cell_type": "code",
   "execution_count": 21,
   "metadata": {},
   "outputs": [],
   "source": [
    "X = np.random.rand(100, 10)\n",
    "y = X[:, 2] + 0.5 * X[:, 5] + 0.1 * X[:, 8] +  np.random.rand(100)\n",
    "y[10:20] = 10 "
   ]
  },
  {
   "cell_type": "code",
   "execution_count": 22,
   "metadata": {},
   "outputs": [
    {
     "data": {
      "text/plain": [
       "(5, 7)"
      ]
     },
     "execution_count": 22,
     "metadata": {},
     "output_type": "execute_result"
    }
   ],
   "source": [
    "best_combination, best_results = search_combination_OLS(X, y)\n",
    "best_combination"
   ]
  },
  {
   "cell_type": "code",
   "execution_count": 23,
   "metadata": {},
   "outputs": [
    {
     "data": {
      "text/html": [
       "<table class=\"simpletable\">\n",
       "<caption>OLS Regression Results</caption>\n",
       "<tr>\n",
       "  <th>Dep. Variable:</th>            <td>y</td>        <th>  R-squared:         </th> <td>   0.073</td>\n",
       "</tr>\n",
       "<tr>\n",
       "  <th>Model:</th>                   <td>OLS</td>       <th>  Adj. R-squared:    </th> <td>   0.054</td>\n",
       "</tr>\n",
       "<tr>\n",
       "  <th>Method:</th>             <td>Least Squares</td>  <th>  F-statistic:       </th> <td>   3.846</td>\n",
       "</tr>\n",
       "<tr>\n",
       "  <th>Date:</th>             <td>Wed, 06 Dec 2023</td> <th>  Prob (F-statistic):</th>  <td>0.0247</td> \n",
       "</tr>\n",
       "<tr>\n",
       "  <th>Time:</th>                 <td>21:01:12</td>     <th>  Log-Likelihood:    </th> <td> -235.51</td>\n",
       "</tr>\n",
       "<tr>\n",
       "  <th>No. Observations:</th>      <td>   100</td>      <th>  AIC:               </th> <td>   477.0</td>\n",
       "</tr>\n",
       "<tr>\n",
       "  <th>Df Residuals:</th>          <td>    97</td>      <th>  BIC:               </th> <td>   484.8</td>\n",
       "</tr>\n",
       "<tr>\n",
       "  <th>Df Model:</th>              <td>     2</td>      <th>                     </th>     <td> </td>   \n",
       "</tr>\n",
       "<tr>\n",
       "  <th>Covariance Type:</th>      <td>nonrobust</td>    <th>                     </th>     <td> </td>   \n",
       "</tr>\n",
       "</table>\n",
       "<table class=\"simpletable\">\n",
       "<tr>\n",
       "    <td></td>       <th>coef</th>     <th>std err</th>      <th>t</th>      <th>P>|t|</th>  <th>[0.025</th>    <th>0.975]</th>  \n",
       "</tr>\n",
       "<tr>\n",
       "  <th>const</th> <td>    0.4200</td> <td>    0.678</td> <td>    0.620</td> <td> 0.537</td> <td>   -0.925</td> <td>    1.765</td>\n",
       "</tr>\n",
       "<tr>\n",
       "  <th>x1</th>    <td>    1.9201</td> <td>    0.954</td> <td>    2.013</td> <td> 0.047</td> <td>    0.027</td> <td>    3.813</td>\n",
       "</tr>\n",
       "<tr>\n",
       "  <th>x2</th>    <td>    1.4832</td> <td>    0.931</td> <td>    1.594</td> <td> 0.114</td> <td>   -0.364</td> <td>    3.330</td>\n",
       "</tr>\n",
       "</table>\n",
       "<table class=\"simpletable\">\n",
       "<tr>\n",
       "  <th>Omnibus:</th>       <td>61.305</td> <th>  Durbin-Watson:     </th> <td>   0.303</td>\n",
       "</tr>\n",
       "<tr>\n",
       "  <th>Prob(Omnibus):</th> <td> 0.000</td> <th>  Jarque-Bera (JB):  </th> <td> 173.155</td>\n",
       "</tr>\n",
       "<tr>\n",
       "  <th>Skew:</th>          <td> 2.383</td> <th>  Prob(JB):          </th> <td>2.51e-38</td>\n",
       "</tr>\n",
       "<tr>\n",
       "  <th>Kurtosis:</th>      <td> 7.341</td> <th>  Cond. No.          </th> <td>    5.22</td>\n",
       "</tr>\n",
       "</table><br/><br/>Notes:<br/>[1] Standard Errors assume that the covariance matrix of the errors is correctly specified."
      ],
      "text/plain": [
       "<class 'statsmodels.iolib.summary.Summary'>\n",
       "\"\"\"\n",
       "                            OLS Regression Results                            \n",
       "==============================================================================\n",
       "Dep. Variable:                      y   R-squared:                       0.073\n",
       "Model:                            OLS   Adj. R-squared:                  0.054\n",
       "Method:                 Least Squares   F-statistic:                     3.846\n",
       "Date:                Wed, 06 Dec 2023   Prob (F-statistic):             0.0247\n",
       "Time:                        21:01:12   Log-Likelihood:                -235.51\n",
       "No. Observations:                 100   AIC:                             477.0\n",
       "Df Residuals:                      97   BIC:                             484.8\n",
       "Df Model:                           2                                         \n",
       "Covariance Type:            nonrobust                                         \n",
       "==============================================================================\n",
       "                 coef    std err          t      P>|t|      [0.025      0.975]\n",
       "------------------------------------------------------------------------------\n",
       "const          0.4200      0.678      0.620      0.537      -0.925       1.765\n",
       "x1             1.9201      0.954      2.013      0.047       0.027       3.813\n",
       "x2             1.4832      0.931      1.594      0.114      -0.364       3.330\n",
       "==============================================================================\n",
       "Omnibus:                       61.305   Durbin-Watson:                   0.303\n",
       "Prob(Omnibus):                  0.000   Jarque-Bera (JB):              173.155\n",
       "Skew:                           2.383   Prob(JB):                     2.51e-38\n",
       "Kurtosis:                       7.341   Cond. No.                         5.22\n",
       "==============================================================================\n",
       "\n",
       "Notes:\n",
       "[1] Standard Errors assume that the covariance matrix of the errors is correctly specified.\n",
       "\"\"\""
      ]
     },
     "execution_count": 23,
     "metadata": {},
     "output_type": "execute_result"
    }
   ],
   "source": [
    "best_results[0].summary()"
   ]
  },
  {
   "cell_type": "code",
   "execution_count": 24,
   "metadata": {},
   "outputs": [
    {
     "data": {
      "text/plain": [
       "(2, 5)"
      ]
     },
     "execution_count": 24,
     "metadata": {},
     "output_type": "execute_result"
    }
   ],
   "source": [
    "best_combination, best_results = search_combination_OLS(X, y, is_sigma_clip=True)\n",
    "best_combination"
   ]
  },
  {
   "cell_type": "code",
   "execution_count": 25,
   "metadata": {},
   "outputs": [
    {
     "data": {
      "text/html": [
       "<table class=\"simpletable\">\n",
       "<caption>OLS Regression Results</caption>\n",
       "<tr>\n",
       "  <th>Dep. Variable:</th>            <td>y</td>        <th>  R-squared:         </th> <td>   0.536</td>\n",
       "</tr>\n",
       "<tr>\n",
       "  <th>Model:</th>                   <td>OLS</td>       <th>  Adj. R-squared:    </th> <td>   0.525</td>\n",
       "</tr>\n",
       "<tr>\n",
       "  <th>Method:</th>             <td>Least Squares</td>  <th>  F-statistic:       </th> <td>   50.23</td>\n",
       "</tr>\n",
       "<tr>\n",
       "  <th>Date:</th>             <td>Wed, 06 Dec 2023</td> <th>  Prob (F-statistic):</th> <td>3.14e-15</td>\n",
       "</tr>\n",
       "<tr>\n",
       "  <th>Time:</th>                 <td>21:01:14</td>     <th>  Log-Likelihood:    </th> <td> -20.509</td>\n",
       "</tr>\n",
       "<tr>\n",
       "  <th>No. Observations:</th>      <td>    90</td>      <th>  AIC:               </th> <td>   47.02</td>\n",
       "</tr>\n",
       "<tr>\n",
       "  <th>Df Residuals:</th>          <td>    87</td>      <th>  BIC:               </th> <td>   54.52</td>\n",
       "</tr>\n",
       "<tr>\n",
       "  <th>Df Model:</th>              <td>     2</td>      <th>                     </th>     <td> </td>   \n",
       "</tr>\n",
       "<tr>\n",
       "  <th>Covariance Type:</th>      <td>nonrobust</td>    <th>                     </th>     <td> </td>   \n",
       "</tr>\n",
       "</table>\n",
       "<table class=\"simpletable\">\n",
       "<tr>\n",
       "    <td></td>       <th>coef</th>     <th>std err</th>      <th>t</th>      <th>P>|t|</th>  <th>[0.025</th>    <th>0.975]</th>  \n",
       "</tr>\n",
       "<tr>\n",
       "  <th>const</th> <td>    0.5883</td> <td>    0.079</td> <td>    7.454</td> <td> 0.000</td> <td>    0.431</td> <td>    0.745</td>\n",
       "</tr>\n",
       "<tr>\n",
       "  <th>x1</th>    <td>    0.8999</td> <td>    0.118</td> <td>    7.627</td> <td> 0.000</td> <td>    0.665</td> <td>    1.134</td>\n",
       "</tr>\n",
       "<tr>\n",
       "  <th>x2</th>    <td>    0.4857</td> <td>    0.124</td> <td>    3.913</td> <td> 0.000</td> <td>    0.239</td> <td>    0.732</td>\n",
       "</tr>\n",
       "</table>\n",
       "<table class=\"simpletable\">\n",
       "<tr>\n",
       "  <th>Omnibus:</th>       <td>36.490</td> <th>  Durbin-Watson:     </th> <td>   2.120</td>\n",
       "</tr>\n",
       "<tr>\n",
       "  <th>Prob(Omnibus):</th> <td> 0.000</td> <th>  Jarque-Bera (JB):  </th> <td>   5.943</td>\n",
       "</tr>\n",
       "<tr>\n",
       "  <th>Skew:</th>          <td>-0.068</td> <th>  Prob(JB):          </th> <td>  0.0512</td>\n",
       "</tr>\n",
       "<tr>\n",
       "  <th>Kurtosis:</th>      <td> 1.748</td> <th>  Cond. No.          </th> <td>    5.29</td>\n",
       "</tr>\n",
       "</table><br/><br/>Notes:<br/>[1] Standard Errors assume that the covariance matrix of the errors is correctly specified."
      ],
      "text/plain": [
       "<class 'statsmodels.iolib.summary.Summary'>\n",
       "\"\"\"\n",
       "                            OLS Regression Results                            \n",
       "==============================================================================\n",
       "Dep. Variable:                      y   R-squared:                       0.536\n",
       "Model:                            OLS   Adj. R-squared:                  0.525\n",
       "Method:                 Least Squares   F-statistic:                     50.23\n",
       "Date:                Wed, 06 Dec 2023   Prob (F-statistic):           3.14e-15\n",
       "Time:                        21:01:14   Log-Likelihood:                -20.509\n",
       "No. Observations:                  90   AIC:                             47.02\n",
       "Df Residuals:                      87   BIC:                             54.52\n",
       "Df Model:                           2                                         \n",
       "Covariance Type:            nonrobust                                         \n",
       "==============================================================================\n",
       "                 coef    std err          t      P>|t|      [0.025      0.975]\n",
       "------------------------------------------------------------------------------\n",
       "const          0.5883      0.079      7.454      0.000       0.431       0.745\n",
       "x1             0.8999      0.118      7.627      0.000       0.665       1.134\n",
       "x2             0.4857      0.124      3.913      0.000       0.239       0.732\n",
       "==============================================================================\n",
       "Omnibus:                       36.490   Durbin-Watson:                   2.120\n",
       "Prob(Omnibus):                  0.000   Jarque-Bera (JB):                5.943\n",
       "Skew:                          -0.068   Prob(JB):                       0.0512\n",
       "Kurtosis:                       1.748   Cond. No.                         5.29\n",
       "==============================================================================\n",
       "\n",
       "Notes:\n",
       "[1] Standard Errors assume that the covariance matrix of the errors is correctly specified.\n",
       "\"\"\""
      ]
     },
     "execution_count": 25,
     "metadata": {},
     "output_type": "execute_result"
    }
   ],
   "source": [
    "best_results[0].summary()"
   ]
  },
  {
   "cell_type": "markdown",
   "metadata": {},
   "source": [
    "#### RF"
   ]
  },
  {
   "cell_type": "code",
   "execution_count": 6,
   "metadata": {},
   "outputs": [
    {
     "data": {
      "text/plain": [
       "((2, 5),\n",
       " CVBest(\n",
       "     best_score=-0.1074317168760371, \n",
       "     best_estimator=RandomForestRegressor(max_depth=5, n_estimators=10)\n",
       " ))"
      ]
     },
     "execution_count": 6,
     "metadata": {},
     "output_type": "execute_result"
    }
   ],
   "source": [
    "best = search_combination_RF_reg(X, y, CVS_kwargs={'n_jobs': -1})\n",
    "best"
   ]
  },
  {
   "cell_type": "code",
   "execution_count": 7,
   "metadata": {},
   "outputs": [
    {
     "data": {
      "text/plain": [
       "((2, 8),\n",
       " CVBest(\n",
       "     best_score=-0.11426732952753926, \n",
       "     best_estimator=None\n",
       " ))"
      ]
     },
     "execution_count": 7,
     "metadata": {},
     "output_type": "execute_result"
    }
   ],
   "source": [
    "best = search_combination_RF_reg(X, y, CVS_kwargs={'n_jobs': -1}, drop_estimator=True)\n",
    "best"
   ]
  },
  {
   "cell_type": "markdown",
   "metadata": {},
   "source": [
    "### Classification"
   ]
  },
  {
   "cell_type": "code",
   "execution_count": 7,
   "metadata": {},
   "outputs": [],
   "source": [
    "X = np.random.rand(100, 10)\n",
    "y = ((X[:, 2] + X[:, 5] + 0.3 * X[:, 8] + 0.2 * np.random.rand(100)) >\n",
    "     1.2).astype(int)"
   ]
  },
  {
   "cell_type": "markdown",
   "metadata": {},
   "source": [
    "#### RF"
   ]
  },
  {
   "cell_type": "code",
   "execution_count": 8,
   "metadata": {},
   "outputs": [
    {
     "data": {
      "text/plain": [
       "((2, 5),\n",
       " CVBest(\n",
       "     best_score=0.866540404040404, \n",
       "     best_estimator=RandomForestClassifier(max_depth=101, n_estimators=1000)\n",
       " ))"
      ]
     },
     "execution_count": 8,
     "metadata": {},
     "output_type": "execute_result"
    }
   ],
   "source": [
    "search_combination_RF_cls(X, y, CVS_kwargs={'n_jobs': -1})"
   ]
  },
  {
   "cell_type": "markdown",
   "metadata": {},
   "source": [
    "## Use dataset"
   ]
  },
  {
   "cell_type": "code",
   "execution_count": 11,
   "metadata": {},
   "outputs": [],
   "source": [
    "X = np.random.rand(100, 10)\n",
    "y = X[:, 2] + 0.5 * X[:, 5] + 0.3 * X[:, 8] + np.random.rand(100)\n",
    "\n",
    "data = np.c_[X, y]\n",
    "\n",
    "dataset = Dataset(\n",
    "    data,\n",
    "    names=['x0', 'x1', 'x2', 'x3', 'x4', 'x5', 'x6', 'x7', 'x8', 'x9', 'y'])"
   ]
  },
  {
   "cell_type": "code",
   "execution_count": 6,
   "metadata": {},
   "outputs": [
    {
     "data": {
      "text/plain": [
       "('0.61  + 1.06 x2 + 0.56 x5',\n",
       " (2, 5),\n",
       " (<statsmodels.regression.linear_model.RegressionResultsWrapper at 0x17637c63d60>,\n",
       "  <function asa.linear_model.linear_model.get_OLS_nd.<locals>.func(X)>))"
      ]
     },
     "execution_count": 6,
     "metadata": {},
     "output_type": "execute_result"
    }
   ],
   "source": [
    "dataset.search_combination_OLS(['x0', 'x1', 'x2', 'x3', 'x4', 'x5', 'x6', 'x7', 'x8', 'x9'], 'y', 2)"
   ]
  },
  {
   "cell_type": "code",
   "execution_count": 9,
   "metadata": {},
   "outputs": [
    {
     "data": {
      "text/plain": [
       "('0.42  + 1.07 x2 + 0.58 x5 + 0.34 x8',\n",
       " (2, 5, 8),\n",
       " (<statsmodels.regression.linear_model.RegressionResultsWrapper at 0x176389f3070>,\n",
       "  <function asa.linear_model.linear_model.get_OLS_nd.<locals>.func(X)>))"
      ]
     },
     "execution_count": 9,
     "metadata": {},
     "output_type": "execute_result"
    }
   ],
   "source": [
    "dataset.search_combination_OLS(['x0', 'x1', 'x2', 'x3', 'x4', 'x5', 'x6', 'x7', 'x8', 'x9'], 'y', 5, metric='bic', allowe_small_n=True)"
   ]
  },
  {
   "cell_type": "code",
   "execution_count": 12,
   "metadata": {},
   "outputs": [
    {
     "data": {
      "text/plain": [
       "('RF(x2, x5)',\n",
       " (2, 5),\n",
       " CVBest(\n",
       "     best_score=-0.12322451580980445, \n",
       "     best_estimator=RandomForestRegressor(max_depth=5)\n",
       " ))"
      ]
     },
     "execution_count": 12,
     "metadata": {},
     "output_type": "execute_result"
    }
   ],
   "source": [
    "dataset.search_combination_RF(\n",
    "    ['x0', 'x1', 'x2', 'x3', 'x4', 'x5', 'x6', 'x7', 'x8', 'x9'],\n",
    "    'y',\n",
    "    n_components=2,\n",
    "    problem_type='regression',\n",
    "    CVS_kwargs={'n_jobs': -1})"
   ]
  },
  {
   "cell_type": "code",
   "execution_count": 13,
   "metadata": {},
   "outputs": [
    {
     "data": {
      "text/plain": [
       "('RF(x2, x5)',\n",
       " (2, 5),\n",
       " CVBest(\n",
       "     best_score=-0.12526489379941472, \n",
       "     best_estimator=None\n",
       " ))"
      ]
     },
     "execution_count": 13,
     "metadata": {},
     "output_type": "execute_result"
    }
   ],
   "source": [
    "dataset.search_combination_RF(\n",
    "    ['x0', 'x1', 'x2', 'x3', 'x4', 'x5', 'x6', 'x7', 'x8', 'x9'],\n",
    "    'y',\n",
    "    n_components=2,\n",
    "    problem_type='regression',\n",
    "    CVS_kwargs={'n_jobs': -1},\n",
    "    drop_estimator=True)"
   ]
  }
 ],
 "metadata": {
  "kernelspec": {
   "display_name": "base",
   "language": "python",
   "name": "python3"
  },
  "language_info": {
   "codemirror_mode": {
    "name": "ipython",
    "version": 3
   },
   "file_extension": ".py",
   "mimetype": "text/x-python",
   "name": "python",
   "nbconvert_exporter": "python",
   "pygments_lexer": "ipython3",
   "version": "3.9.18"
  }
 },
 "nbformat": 4,
 "nbformat_minor": 2
}
